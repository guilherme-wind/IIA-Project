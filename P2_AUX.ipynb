{
 "cells": [
  {
   "cell_type": "code",
   "execution_count": 59,
   "id": "50e3932f",
   "metadata": {},
   "outputs": [],
   "source": [
    "from MedoTotal import *\n",
    "from searchPlus import *\n",
    "\n",
    "def depth_first_tree_search_all_count(problem, optimal=False, verbose=False):\n",
    "    def search(problem, frontier, optimal, verbose):\n",
    "        resultado = Node(state=None, path_cost=infinity)\n",
    "        max_mem = 0\n",
    "        visitados = 0\n",
    "        finais = 0\n",
    "        frontier.append(Node(problem.initial))\n",
    "        while frontier:\n",
    "            node = frontier.pop()\n",
    "            max_mem = max(max_mem, len(frontier))\n",
    "            if optimal and node.path_cost >= resultado.path_cost:\n",
    "                continue\n",
    "            if (verbose):\n",
    "                print('-'*21, \"\\n\")\n",
    "                print(problem.display(node.state))\n",
    "            visitados += 1\n",
    "            if problem.goal_test(node.state):\n",
    "                if verbose:\n",
    "                    print(\"GGGGooooooallllll --------- com o custo:\", node.path_cost)\n",
    "                finais += 1\n",
    "                if node.path_cost < resultado.path_cost:\n",
    "                    if (verbose):\n",
    "                        print(\"Di best goal até agora\")\n",
    "                    resultado = node\n",
    "            else:\n",
    "                if verbose:\n",
    "                    print(\"Custo:\", node.path_cost)\n",
    "                children = list(node.expand(problem))\n",
    "                if children:\n",
    "                    children.reverse()\n",
    "                if optimal:\n",
    "                    children = list(filter(lambda c: c.path_cost < resultado.path_cost, children))\n",
    "                frontier.extend(children)\n",
    "            # print(\"CHILDREN =\", len(children))\n",
    "            # print(\"MEMÓRIA MAX=\", max_mem)\n",
    "        return (resultado, max_mem, visitados, finais)\n",
    "\n",
    "    resultado, max_mem, visitados, finais = search(problem, Stack(), optimal, verbose)\n",
    "\n",
    "    return resultado, max_mem, visitados, finais\n"
   ]
  },
  {
   "cell_type": "code",
   "execution_count": 60,
   "id": "ca1c9141",
   "metadata": {},
   "outputs": [
    {
     "name": "stdout",
     "output_type": "stream",
     "text": [
      "********************\n",
      "Solução Prof-total (árvore) com custo 7:\n",
      "['S', 'E', 'E', 'N', 'S', 'S']\n",
      "Visitados= 12\n",
      "Dimensão máxima da memória 2\n",
      "Estados finais: 3\n"
     ]
    }
   ],
   "source": [
    "parametros=\"T=6\\nM=4\\nP=10\"\n",
    "linha1= \"= = = = = =\\n\"\n",
    "linha2= \"= . @ F * =\\n\"\n",
    "linha3= \"= . . . . =\\n\"\n",
    "linha4= \"= . = . . =\\n\"\n",
    "linha5= \"= . = . . =\\n\"\n",
    "linha6= \"= = = = = =\\n\"\n",
    "grelha=linha1+linha2+linha3+linha4+linha5+linha6\n",
    "mundoStandardx=parametros + \"\\n\" + grelha\n",
    "gx=MedoTotal(mundoStandardx)\n",
    "\n",
    "resultado,max_mem,visitados,finais = depth_first_tree_search_all_count(gx)\n",
    "print('*'*20)\n",
    "if resultado:\n",
    "    print(\"Solução Prof-total (árvore) com custo \" + str(resultado.path_cost)+\":\")\n",
    "    print(resultado.solution())\n",
    "else:\n",
    "    print('\\nSem Solução')\n",
    "print('Visitados=',visitados)\n",
    "print('Dimensão máxima da memória',max_mem)\n",
    "print('Estados finais:',finais)"
   ]
  },
  {
   "cell_type": "code",
   "execution_count": 61,
   "id": "1f203009",
   "metadata": {},
   "outputs": [
    {
     "name": "stdout",
     "output_type": "stream",
     "text": [
      "********************\n",
      "['S', 'E', 'E', 'N', 'S', 'S']\n",
      "Visitados= 11\n",
      "Dimensão máxima da memória 2\n",
      "Estados finais: 2\n"
     ]
    }
   ],
   "source": [
    "parametros=\"T=6\\nM=4\\nP=10\"\n",
    "linha1= \"= = = = = =\\n\"\n",
    "linha2= \"= . @ F * =\\n\"\n",
    "linha3= \"= . . . . =\\n\"\n",
    "linha4= \"= . = . . =\\n\"\n",
    "linha5= \"= . = . . =\\n\"\n",
    "linha6= \"= = = = = =\\n\"\n",
    "grelha=linha1+linha2+linha3+linha4+linha5+linha6\n",
    "mundoStandardx=parametros + \"\\n\" + grelha\n",
    "gx=MedoTotal(mundoStandardx)\n",
    "\n",
    "resultado,max_mem,visitados,finais = depth_first_tree_search_all_count(gx,True,False)\n",
    "print('*'*20)\n",
    "if resultado:\n",
    "    #print(\"\\nSolução Prof-total (árvore) com custo\", str(resultado.path_cost)+\":\")\n",
    "    print(resultado.solution())\n",
    "else:\n",
    "    print('\\nSem Solução')\n",
    "print('Visitados=',visitados)\n",
    "print('Dimensão máxima da memória',max_mem)\n",
    "print('Estados finais:',finais)"
   ]
  },
  {
   "cell_type": "code",
   "execution_count": null,
   "id": "70ed5073",
   "metadata": {},
   "outputs": [],
   "source": []
  }
 ],
 "metadata": {
  "kernelspec": {
   "display_name": "Python 3 (ipykernel)",
   "language": "python",
   "name": "python3"
  },
  "language_info": {
   "codemirror_mode": {
    "name": "ipython",
    "version": 3
   },
   "file_extension": ".py",
   "mimetype": "text/x-python",
   "name": "python",
   "nbconvert_exporter": "python",
   "pygments_lexer": "ipython3",
   "version": "3.11.4"
  }
 },
 "nbformat": 4,
 "nbformat_minor": 5
}
