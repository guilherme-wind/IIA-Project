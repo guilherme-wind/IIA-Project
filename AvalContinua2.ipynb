{
 "cells": [
  {
   "cell_type": "markdown",
   "metadata": {},
   "source": [
    "# Avaliação Contínua 2\n",
    "## Introdução à Inteligência Artificial, edição 23/24\n",
    "\n",
    "<img src=\"Imagens\\pacman-naive.png\" alt=\"Drawing\" style=\"width: 200px;\"/>"
   ]
  },
  {
   "cell_type": "markdown",
   "metadata": {},
   "source": [
    "## Introdução\n",
    "Vamos continuar com o problema do Medo Total da avaliação contínua 1 e vamos procurar a solução do problema usando e desenvolvendo novos algoritmos de procura. Vamos introduzir uma correcção e duas melhorias, uma de eficiência e outra de apresentação. Não iremos descrever o problema aqui de novo, por isso, se está esquecido pode consultar o enunciado da Avaliação Contínua 1."
   ]
  },
  {
   "cell_type": "markdown",
   "metadata": {},
   "source": [
    "### Rectificações do modelo em relação à avaliação contínua 1\n",
    "Considerando o poder P das super-pastilhas, o Medo corrente (MCC) e o objectivo de manter o fantasma amedrontado durante TO instantes\n",
    "1. Corrigimos o 3º critério da antecipação da falha, quando há medo suficiente para chegar a pelo menos uma pastilha, de acordo com a distância de Manhatan, que passa a ser:\n",
    "\n",
    "$MC+numPastilhas \\times P < TO$, \n",
    "\n",
    "em que $minDist$ é a distância de Manhatan do Pacman à pastilha mais próxima.\n",
    "2. Os testes de antecipação da falha são feitos na geração de cada sucessor e não na expansão dos estados. Só se geram os sucessores de estados onde não se detecte que vai haver uma impossibilidade de solução. Assim, a fronteira cresce menos e o número de expandidos será menor, a memória também.\n",
    "3. Mudámos o display do estado para mostrar quanto instantes faltam até ao objectivo (TO) e o medo corrente (MC)... Para o display ser perfeito só faltaria apresentar as frequências das visitas a cada célula, mas a perfeição não é por vezes o desejável."
   ]
  },
  {
   "cell_type": "markdown",
   "metadata": {},
   "source": [
    "## Formulação como Grafo de Estados\n",
    "Vamos descrever a nossa formulação.\n",
    "\n",
    "### Estados\n",
    "Vamos usar para o estado um `namedtuple` com 5 elementos necessários e suficientes para a representação do estado:\n",
    "\n",
    "* a posição do Pacman, \n",
    "* o conjunto de pastilhas, \n",
    "* o tempo que falta para o objectivo, \n",
    "* o medo corrente do fantasma e \n",
    "* uma tabela com frequência de visita das células da grelha.\n",
    "\n",
    "Eis a definição do `namedtuple`, que tem de ser importado de `collections` (importamos o nosso `searchPlus` e o `timeit`). "
   ]
  },
  {
   "cell_type": "code",
   "execution_count": 2,
   "metadata": {},
   "outputs": [],
   "source": [
    "from collections import namedtuple\n",
    "from searchPlus import *\n",
    "import timeit    # Para tirar\n",
    "\n",
    "EstadoMedo = namedtuple('EstadoMedo', 'pacman, pastilhas, tempo, medo, visitadas')"
   ]
  },
  {
   "cell_type": "markdown",
   "metadata": {},
   "source": [
    "Como precisamos de usar os algoritmos de procura em grafo, como o custo uniforme e o A*, teremos de redefinir os métodos `__lt__`, `__eq__`e `__hash__`. Criámos assim uma subclasse de `namedtuple`, a que chamámos de `EstadoMedoTotal`."
   ]
  },
  {
   "cell_type": "code",
   "execution_count": 3,
   "metadata": {},
   "outputs": [],
   "source": [
    "class EstadoMedoTotal(EstadoMedo):\n",
    "    \"\"\" A classe para representar a informação que muda com as acções.\n",
    "    um estado é sempre considerado menor do que qualquer outro. \"\"\"\n",
    "    def __lt__(self,x):\n",
    "        return True\n",
    "    \n",
    "    def __eq__(self,outro):\n",
    "        return self.pacman==outro.pacman and self.pastilhas == outro.pastilhas and \\\n",
    "                self.visitadas == outro.visitadas and self.medo == outro.medo and self.tempo == outro.tempo\n",
    "    \n",
    "    def __hash__(self):\n",
    "        return hash(str(self.pacman)+str(self.pastilhas)+str(self.tempo)+str(self.medo)+str(self.visitadas))\n"
   ]
  },
  {
   "cell_type": "markdown",
   "metadata": {},
   "source": [
    "Vamos criar o mundo standard, a ser usado por omissão:"
   ]
  },
  {
   "cell_type": "code",
   "execution_count": 4,
   "metadata": {},
   "outputs": [],
   "source": [
    "parametros=\"T=26\\nM=6\\nP=10\"\n",
    "linha1= \"= = = = = = = = = =\\n\"\n",
    "linha2= \"= @ . * . . * . . =\\n\"\n",
    "linha3= \"= . = = = = = = . =\\n\"\n",
    "linha4= \"= . = F . . . . . =\\n\"\n",
    "linha5= \"= . = . . . . . . =\\n\"\n",
    "linha6= \"= . = . . . . . . =\\n\"\n",
    "linha7= \"= . = . . . . . . =\\n\"\n",
    "linha8= \"= * . . . . . . . =\\n\"\n",
    "linha9= \"= . . . . . . . . =\\n\"\n",
    "linha10=\"= = = = = = = = = =\\n\"\n",
    "grelha=linha1+linha2+linha3+linha4+linha5+linha6+linha7+linha8+linha9+linha10\n",
    "mundoStandard=parametros + \"\\n\" + grelha"
   ]
  },
  {
   "cell_type": "markdown",
   "metadata": {},
   "source": [
    "```python\n",
    "parametros=\"T=26\\nM=6\\nP=10\"\n",
    "linha1= \"= = = = = = = = = =\\n\"\n",
    "linha2= \"= @ . * . . * . . =\\n\"\n",
    "linha3= \"= . = = = = = = . =\\n\"\n",
    "linha4= \"= . = F . . . . . =\\n\"\n",
    "linha5= \"= . = . . . . . . =\\n\"\n",
    "linha6= \"= . = . . . . . . =\\n\"\n",
    "linha7= \"= . = . . . . . . =\\n\"\n",
    "linha8= \"= * . . . . . . . =\\n\"\n",
    "linha9= \"= . . . . . . . . =\\n\"\n",
    "linha10=\"= = = = = = = = = =\\n\"\n",
    "grelha=linha1+linha2+linha3+linha4+linha5+linha6+linha7+linha8+linha9+linha10\n",
    "mundoStandard=parametros + \"\\n\" + grelha\n",
    "```"
   ]
  },
  {
   "cell_type": "markdown",
   "metadata": {},
   "source": [
    "A função que calcula a distância de Manhatan entre dois pontos $(x,y)$."
   ]
  },
  {
   "cell_type": "code",
   "execution_count": 5,
   "metadata": {},
   "outputs": [],
   "source": [
    "# Distância de Manhatan entre 2 pontos\n",
    "#\n",
    "def manhatan(p,q):\n",
    "    (x1,y1) = p\n",
    "    (x2,y2) = q\n",
    "    return abs(x1-x2) + abs(y1-y2)"
   ]
  },
  {
   "cell_type": "markdown",
   "metadata": {},
   "source": [
    "Eis a classe MedoTotal"
   ]
  },
  {
   "cell_type": "code",
   "execution_count": 9,
   "metadata": {},
   "outputs": [],
   "source": [
    "# A subclasse de Problem: MedoTotal\n",
    "#\n",
    "class MedoTotal(Problem):\n",
    "    \"\"\"Encontrar um caminho numa grelha 2D com obstáculos. Os obstáculos são células (x, y).\"\"\"\n",
    "\n",
    "    def conv_txt_estado(self,txt):\n",
    "    \n",
    "        def processa_linha(dados,y,linha):\n",
    "            x=0\n",
    "            for c in linha:\n",
    "                if c=='*':\n",
    "                    dados['pastilhas'].add((x,y))\n",
    "                elif c=='=':\n",
    "                    dados['obstaculos'].add((x,y))\n",
    "                elif c=='@':\n",
    "                    dados['pacman']=(x,y)\n",
    "                elif c=='F':\n",
    "                    dados['fantasma']=(x,y)\n",
    "                if c!= \" \":\n",
    "                    x+=1\n",
    "        \n",
    "        linhas=txt.split('\\n')\n",
    "        T=int(linhas[0][2:])\n",
    "        M=int(linhas[1][2:])\n",
    "        P=int(linhas[2][2:])\n",
    "        dim=(len(linhas[3])+1)//2\n",
    "        \n",
    "        dados={'dim':dim, 'T':T, 'M':M, 'P':P, 'obstaculos':set(), 'pastilhas':set()}\n",
    "        y=0\n",
    "        for l in linhas[3:]:\n",
    "            processa_linha(dados,y,l)\n",
    "            y+=1\n",
    "        return dados\n",
    "    \n",
    "        \n",
    "    def __init__(self, texto_input=mundoStandard):\n",
    "        diccio=self.conv_txt_estado(texto_input)\n",
    "        self.initial=EstadoMedoTotal(diccio['pacman'], diccio['pastilhas'], diccio['T'], diccio['M'],{diccio['pacman']:1})\n",
    "        self.goal=diccio['T'] \n",
    "        self.fantasma = diccio['fantasma']\n",
    "        self.poder = diccio['P']\n",
    "        self.obstacles=diccio['obstaculos']\n",
    "        self.dim=diccio['dim']\n",
    "\n",
    "\n",
    "    directions = {\"N\":(0, -1), \"W\":(-1, 0), \"E\":(1,  0),\"S\":(0, +1)}  # ortogonais\n",
    "    \n",
    "                  \n",
    "    def result(self, state, action): \n",
    "        \"Tanto as acções como os estados são representados por pares (x,y).\"\n",
    "        pacman,pastilhas,tempo,medo,visitadas=state\n",
    "        (x,y) = pacman\n",
    "        (dx,dy) = self.directions[action]\n",
    "        npos = (x+dx,y+dy)\n",
    "        if npos == self.fantasma:\n",
    "            medo=0\n",
    "        elif npos in pastilhas:\n",
    "            pastilhas = pastilhas - {npos}\n",
    "            medo = self.poder\n",
    "        else:\n",
    "            medo -= 1\n",
    "        tempo -=1\n",
    "        copia_visitadas = visitadas.copy()\n",
    "        freq=copia_visitadas.get(npos,0)\n",
    "        copia_visitadas[npos]=freq+1\n",
    "        return(EstadoMedoTotal(npos, pastilhas, tempo, medo, copia_visitadas))\n",
    "    \n",
    "\n",
    "    # situações de falha antecipada\n",
    "    #\n",
    "    def falha_antecipada(self,state):\n",
    "        if state.tempo <= state.medo:\n",
    "            return False\n",
    "        if state.pastilhas == set(): # se não há mais pastilhas e eram necessárias\n",
    "            return True\n",
    "        minDist = min(list(map(lambda x: manhatan(state.pacman,x),state.pastilhas)))\n",
    "        if minDist > state.medo: # se não há tempo (manhatan) para chegar à próxima super-pastilha\n",
    "            return True\n",
    "        if (state.medo + self.poder * len(state.pastilhas)) < state.tempo:\n",
    "            # se o poder de todas as pastilhas mais o medo são insuficientes.\n",
    "            return True\n",
    "        return False\n",
    "    \n",
    "    def actions(self, state):\n",
    "        \"\"\"Podes mover-te para uma célula em qualquer das direcções para uma casa \n",
    "           que não seja obstáculo nem fantasma.\"\"\"\n",
    "        x, y = state.pacman\n",
    "        return [act for act in self.directions.keys() \n",
    "                if (x+self.directions[act][0],y+self.directions[act][1]) not in (self.obstacles | {self.fantasma}) and \n",
    "                not self.falha_antecipada(self.result(state,act))]\n",
    "\n",
    "    \n",
    "    def path_cost(self,c,state,action,new):\n",
    "        return c + new.visitadas[new.pacman]\n",
    "    \n",
    "    def goal_test(self,state):\n",
    "        return state.tempo==0\n",
    "\n",
    "    def display(self, state):\n",
    "        \"\"\" print the state please\"\"\"\n",
    "        output=\"Tempo: \"+ str(state.tempo) + \"\\n\"\n",
    "        output+=\"Medo: \"+ str(state.medo)  + \"\\n\"\n",
    "        for j in range(self.dim):\n",
    "            for i in range(self.dim):\n",
    "                if state.pacman ==(i,j):\n",
    "                    ch = '@'\n",
    "                elif self.fantasma==(i,j):\n",
    "                    ch = \"F\"\n",
    "                elif (i,j) in self.obstacles:\n",
    "                    ch = \"=\"\n",
    "                elif (i,j) in state.pastilhas:\n",
    "                    ch = '*'\n",
    "                else:\n",
    "                    ch = \".\"\n",
    "                output += ch + \" \"\n",
    "            output += \"\\n\"\n",
    "        return output  \n",
    "\n",
    "    def executa(p,estado,accoes,verbose=False):\n",
    "        \"\"\"Executa uma sequência de acções a partir do estado devolvendo o triplo formado pelo estado, \n",
    "        pelo custo acumulado e pelo booleano que indica se o objectivo foi ou não atingido. Se o objectivo for atingido\n",
    "        antes da sequência ser atingida, devolve-se o estado e o custo corrente.\n",
    "        Há o modo verboso e o não verboso, por defeito.\"\"\"\n",
    "        custo = 0\n",
    "        for a in accoes:\n",
    "            seg = p.result(estado,a)\n",
    "            custo = p.path_cost(custo,estado,a,seg)\n",
    "            estado = seg\n",
    "            objectivo=p.goal_test(estado)\n",
    "            if verbose:\n",
    "                p.display(estado)\n",
    "                print('Custo Total:',custo)\n",
    "                print('Atingido o objectivo?', objectivo)\n",
    "            if objectivo:\n",
    "                break\n",
    "        return (estado,custo,objectivo)"
   ]
  },
  {
   "cell_type": "markdown",
   "metadata": {},
   "source": [
    "Podemos confirmar que funciona correctamente para o exemplo seguinte:"
   ]
  },
  {
   "cell_type": "code",
   "execution_count": 10,
   "metadata": {},
   "outputs": [
    {
     "name": "stdout",
     "output_type": "stream",
     "text": [
      "------------     Resolver: \n",
      "\n",
      "Tempo: 24\n",
      "Medo: 2\n",
      "= = = = = = = = = = \n",
      "= @ . * . . . . . = \n",
      "= . = = = . = = . = \n",
      "= . = F . * . . * = \n",
      "= . = . . . . . . = \n",
      "= . = . . . . . . = \n",
      "= . = . . . . . . = \n",
      "= . . . . . . . . = \n",
      "= . . . . . * . . = \n",
      "= = = = = = = = = = \n",
      "\n",
      "Solução Prof-prim (grafo) com custo 29:\n",
      "['E', 'E', 'E', 'E', 'S', 'S', 'S', 'S', 'S', 'S', 'S', 'E', 'E', 'E', 'N', 'N', 'N', 'N', 'N', 'S', 'S', 'S', 'S', 'S']\n",
      "Time:  0.0014910999999955266\n"
     ]
    }
   ],
   "source": [
    "parametros=\"T=24\\nM=2\\nP=7\"\n",
    "linha1= \"= = = = = = = = = =\\n\"\n",
    "linha2= \"= @ . * . . . . . =\\n\"\n",
    "linha3= \"= . = = = . = = . =\\n\"\n",
    "linha4= \"= . = F . * . . * =\\n\"\n",
    "linha5= \"= . = . . . . . . =\\n\"\n",
    "linha6= \"= . = . . . . . . =\\n\"\n",
    "linha7= \"= . = . . . . . . =\\n\"\n",
    "linha8= \"= . . . . . . . . =\\n\"\n",
    "linha9= \"= . . . . . * . . =\\n\"\n",
    "linha10=\"= = = = = = = = = =\\n\"\n",
    "grelha=linha1+linha2+linha3+linha4+linha5+linha6+linha7+linha8+linha9+linha10\n",
    "mundoStandard2=parametros + \"\\n\" + grelha\n",
    "gx=MedoTotal(mundoStandard2)\n",
    "print('------------     Resolver: \\n')\n",
    "print(gx.display(gx.initial))\n",
    "start = timeit.default_timer()\n",
    "resultado= depth_first_graph_search(gx)\n",
    "if resultado:\n",
    "    print(\"Solução Prof-prim (grafo) com custo\", str(resultado.path_cost)+\":\")\n",
    "    print(resultado.solution())\n",
    "else:\n",
    "    print('Sem Solução')\n",
    "stop = timeit.default_timer()\n",
    "print('Time: ', stop - start)"
   ]
  },
  {
   "cell_type": "markdown",
   "metadata": {},
   "source": [
    "Se lhe apresentarmos um problema sem solução, por exemplo:"
   ]
  },
  {
   "cell_type": "code",
   "execution_count": 11,
   "metadata": {},
   "outputs": [
    {
     "name": "stdout",
     "output_type": "stream",
     "text": [
      "------------     Resolver: \n",
      "\n",
      "Tempo: 3\n",
      "Medo: 1\n",
      "= = = = = = = = = = \n",
      "= @ . * . . . . . = \n",
      "= . = = = . = = . = \n",
      "= . = F . * . . * = \n",
      "= . = . . . . . . = \n",
      "= . = . . . . . . = \n",
      "= . = . . . . . . = \n",
      "= . . . . . . . . = \n",
      "= . . . . . * . . = \n",
      "= = = = = = = = = = \n",
      "\n",
      "Sem Solução\n",
      "Time:  0.00013200000000779255\n"
     ]
    }
   ],
   "source": [
    "parametros=\"T=3\\nM=1\\nP=7\"\n",
    "linha1= \"= = = = = = = = = =\\n\"\n",
    "linha2= \"= @ . * . . . . . =\\n\"\n",
    "linha3= \"= . = = = . = = . =\\n\"\n",
    "linha4= \"= . = F . * . . * =\\n\"\n",
    "linha5= \"= . = . . . . . . =\\n\"\n",
    "linha6= \"= . = . . . . . . =\\n\"\n",
    "linha7= \"= . = . . . . . . =\\n\"\n",
    "linha8= \"= . . . . . . . . =\\n\"\n",
    "linha9= \"= . . . . . * . . =\\n\"\n",
    "linha10=\"= = = = = = = = = =\\n\"\n",
    "grelha=linha1+linha2+linha3+linha4+linha5+linha6+linha7+linha8+linha9+linha10\n",
    "mundoStandard2=parametros + \"\\n\" + grelha\n",
    "gx=MedoTotal(mundoStandard2)\n",
    "print('------------     Resolver: \\n')\n",
    "print(gx.display(gx.initial))\n",
    "start = timeit.default_timer()\n",
    "resultado= depth_first_graph_search(gx)\n",
    "if resultado:\n",
    "    print(\"Solução Prof-prim (grafo) com custo\", str(resultado.path_cost)+\":\")\n",
    "    print(resultado.solution())\n",
    "else:\n",
    "    print('Sem Solução')\n",
    "stop = timeit.default_timer()\n",
    "print('Time: ', stop - start)"
   ]
  },
  {
   "cell_type": "markdown",
   "metadata": {},
   "source": [
    "Não encontra solução"
   ]
  },
  {
   "cell_type": "markdown",
   "metadata": {},
   "source": [
    "O código em cima estará no ficheiro `MedoTotal.py`."
   ]
  },
  {
   "cell_type": "markdown",
   "metadata": {},
   "source": [
    "## 3 Perguntas\n",
    "Vamos ter 3 perguntas nesta avaliação contínua, com base na classe `MedoTotal`, todas de avaliação automática.\n",
    "\n",
    "### Pergunta 1\n",
    "Vamos pedir que redefinam a classe `MedoTotal`de modo a utilizarem as distâncias reais do Pacman às pastilhas para a detecção de problema irresolúvel, a que chamámos de antecipação da falha. Ver bloco de notas `pergunta1AvalContinua2.ipynb`.\n",
    "\n",
    "### Pergunta 2\n",
    "Construam uma variante da profundidade primeiro, com teste de objectivo na geração dos sucessores, adaptada a problemas em que as soluções estão todas à mesma profundidade, que é o caso deste problema e que permita calcular a melhor solução, podendo devolver informação sobre o número de estados finais, tamanho do espaço de estados, máxima dimensão da fronteira e também com a possibilidade de ser optimizada. Ver bloco de notas `pergunta2AvalContinua2.ipynb`.\n",
    "\n",
    "### Pergunta 3\n",
    "Desenvolvam o algoritmo de procura Iterative Deepening A* (`IDA*`) e que o comparem com o A* em termos de estados expandidos e máxima dimensão da fornteira. `pergunta3AvalContinua3.ipynb`"
   ]
  },
  {
   "cell_type": "markdown",
   "metadata": {},
   "source": [
    "## Submissão\n",
    "\n",
    "### Quizz\n",
    "Cada grupo deve completar a implementação da classe pedida e testá-la no link do *quizz* **Avaliação Contínua 2** introduzindo e testando o vosso código. \n",
    "\n",
    "Como dissemos atrás, este *quizz* é constituído por 3 perguntas. As 3 perguntas serão avaliadas através de um conjunto de testes automáticos visíveis e mais alguns testes escondidos, valendo no total 1.75 valores (0.55+0.6+0.6)\n",
    "\n",
    "Podem ir verificando o código (botão check) e submeterem as vezes que quiserem (ambos os elementos do grupo), sendo a submissão com melhor nota a que será considerada.\n",
    "\n",
    "### Prazo\n",
    "A submissão fecha às 23:59 de Segunda, 23 de Outubro\n",
    "\n",
    "### Ficheiro Python\n",
    "Simultaneamente é necessario submeter o ficheiro Python, que contém todo o código das 3 perguntas, na página da disciplina. Só queremos uma submissão por grupo. Esse ficheiro deve chamar-se *AvalCont2_IIA_23_24_grupoXX.py* em que substituem XX pelo identificador do grupo. "
   ]
  }
 ],
 "metadata": {
  "kernelspec": {
   "display_name": "Python 3",
   "language": "python",
   "name": "python3"
  },
  "language_info": {
   "codemirror_mode": {
    "name": "ipython",
    "version": 3
   },
   "file_extension": ".py",
   "mimetype": "text/x-python",
   "name": "python",
   "nbconvert_exporter": "python",
   "pygments_lexer": "ipython3",
   "version": "3.7.3"
  }
 },
 "nbformat": 4,
 "nbformat_minor": 2
}
