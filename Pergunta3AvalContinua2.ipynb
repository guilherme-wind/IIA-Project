{
 "cells": [
  {
   "cell_type": "markdown",
   "metadata": {},
   "source": [
    "# Pergunta 3 - IDA*\n",
    "## Avaliação Contínua II - IIA 23/24\n",
    "\n",
    "<img src=\"Imagens\\chaosAsteriskus.gif\" alt=\"Drawing\" style=\"width: 200px;\"/>"
   ]
  },
  {
   "cell_type": "markdown",
   "metadata": {},
   "source": [
    "## Introdução\n",
    "O Iterative Deepening `A*` é uma mistura entre o Aprofundamento Progressivo e o `A*`. Tem as vantagens e desvantagens do Aprofundamento Progressivo: a fronteira da árvore de procura cresce pouco, tendo uma complexidade espacial que é é linear, mas devido à sua progressividade irá visitar repetidamente os mesmos nós.\n",
    "Queremos verificar se este algoritmo é adequado para o problema MedoTotal, comparando-o com o `A*`."
   ]
  },
  {
   "cell_type": "markdown",
   "metadata": {},
   "source": [
    "## Objectivo\n",
    "O objectivo é desenvolver a função `ida_star_graph_search_count` que dado uma instância da classe `Problem` como input, e a função $f(n)=custo(n) + heurística(n)$ executa uma procura de acordo com o `IDA*` na sua versão em grafo.\n",
    "\n",
    "Notem que em cada passo, é executada uma procura em Profundidade-primeiro em grafo limitada a nós com $f(n)<limiar$, e em que o limiar começa com o valor heurístico do estado inicial e vai progressivamente aumentando se a procura em Profundidade-primeiro limitada não encontrar a solução dentro desse valor limiar. Entre cada passo, o novo limiar será o menor valor $f(n)$ que ultrapassa o limiar actual. O algoritmo devolve a primeira solução que encontra se tiver um valor igual ou menor do que o valor limiar. Essa solução será óptima se a heurística for admissível no caso do IDA* em árvore ou se for consistente no caso da versão em grafo.\n",
    "\n",
    "Pretendemos a versão em grafo e que respeita a ordem das acções. Devem ter atenção que a procura em Profundidade-primeiro standard usa uma pilha e que naturalmente inverte essa ordem. Na versão em grafo, em cada passo com procura em Profundidade-primeiro nunca se revisitam os estados.\n",
    "\n",
    "A Profundidade primeiro deve também fazer o teste de satisfação do objectivo quando se faz o pop da fronteira.\n",
    "\n",
    "O output da função pedida devolverá um tuplo `(node,visitados)` em que `node` é o nó final da procura se o encontrar ou `None` e visitados indica o resultado de contar os estados visitados ao longo dos vários passos de todo o processo de procura. \n",
    "\n",
    "Queremos que juntem aos argumentos da função um novo input booleano, a `False` por omissão, que se queremos ou não a versão pedagógica. Na versão pedagógica podemos seguir o rasto do processo de procura desde o estado inicial até encontrar a solução, passo a passo. Ilustraremos o rasto da procura com um exemplo.\n",
    "\n",
    "Para simplificar iremos usar grafos abstractos para ilustrar a versão pedagógica. Nos testes usaremos grafos abstractos e também instâncias do problema Medo Total."
   ]
  },
  {
   "cell_type": "markdown",
   "metadata": {},
   "source": [
    "## A classe GrafoAbstractoHs\n",
    "Vamos mostrar a implementação da classe abstracta `GrafoAbstracto` que está no ficheiro anexo `GrafoAbstracto.py`. Esta classe tem o grafo seguinte por omissão. \n",
    "\n",
    "<img src=\"Imagens\\GrafoDoisFinais.PNG\" alt=\"Drawing\" style=\"width: 450px;\"/>\n",
    "\n",
    "com o valor da função heurística inscrita ao lado dos estados."
   ]
  },
  {
   "cell_type": "markdown",
   "metadata": {},
   "source": [
    "``` python\n",
    "class ProblemaGrafoHs(Problem) :\n",
    "    grafoDuplo= {'I':{'A':3,'B':3},\n",
    "             'A':{'C':1,'D':6},\n",
    "             'B':{'E':1,'F2':9},\n",
    "             'C':{'D':4,'I':10},\n",
    "             'D':{'B':3,'F1':6},\n",
    "             'F1':{'C':2},\n",
    "             'E':{'F2':5},\n",
    "             'F2':{'B':8}}\n",
    "\n",
    "    hDuplo = {'A':5,'B':5,'C':3,'D':7,'E':4,'F1':0,'F2':0, 'I':10 }\n",
    "\n",
    "    \n",
    "    hGun = {'A':8,'B':9,'C':10,'D':6,'E':9,'F':8,'G':5,'H':5,'I':3,'J':0,'K':0,'L':1,'M':1 }\n",
    "\n",
    "    def __init__(self,initial = 'A', goal = 'K',grafo=grafoDuplo,h=hDuplo) :\n",
    "        super().__init__(initial,goal)\n",
    "        self.grafo=grafo\n",
    "        self.h=h\n",
    "        \n",
    "    def actions(self,estado) :\n",
    "        sucessores = self.grafo[estado].keys()  # métodos keys() devolve a lista das chaves do dicionário\n",
    "        accoes = list(map(lambda x : \"ir de {} para {}\".format(estado,x),sucessores))\n",
    "        return accoes\n",
    "\n",
    "    def result(self, estado, accao) :\n",
    "        \"\"\"Assume-se que uma acção é da forma 'ir de X para Y'\n",
    "        \"\"\"\n",
    "        return accao.split()[-1]\n",
    "    \n",
    "    def path_cost(self, c, state1, action, state2):\n",
    "        return c + self.grafo[state1][state2]\n",
    "    \n",
    "    def display(self,state):\n",
    "        return state\n",
    "\n",
    "    def h1(self,no):\n",
    "        return self.h[no.state]\n",
    "```"
   ]
  },
  {
   "cell_type": "markdown",
   "metadata": {},
   "source": [
    "## Exemplos"
   ]
  },
  {
   "cell_type": "markdown",
   "metadata": {},
   "source": [
    "### Exemplo 1\n",
    "Primeiro teste com o problema do grafo duplo na imagem em cima"
   ]
  },
  {
   "cell_type": "markdown",
   "metadata": {},
   "source": [
    "Vamos testar o IDA* em grafo com contagem do número de visitados"
   ]
  },
  {
   "cell_type": "markdown",
   "metadata": {},
   "source": [
    "```python\n",
    "s = ProblemaGrafo()\n",
    "print('---------------- IDA* ----------------')\n",
    "f=lambda n: n.path_cost + s.h1(n)\n",
    "res_IDAstar,visitados=ida_star_graph_search_count(s,f)\n",
    "if res_IDAstar:\n",
    "    print(\"\\nSolução:\",res_IDAstar.solution(),'com custo',res_IDAstar.path_cost)\n",
    "else:\n",
    "    print('\\nSem Solução')\n",
    "print('Visitados:',visitados)\n",
    "``` "
   ]
  },
  {
   "cell_type": "markdown",
   "metadata": {},
   "source": [
    "```python\n",
    "---------------- IDA* ----------------\n",
    "\n",
    "Solução: ['ir de I para B', 'ir de B para F2'] com custo 12\n",
    "Visitados: 14\n",
    "```"
   ]
  },
  {
   "cell_type": "markdown",
   "metadata": {},
   "source": [
    "Agora com toque pedagógico:"
   ]
  },
  {
   "cell_type": "markdown",
   "metadata": {},
   "source": [
    "```python\n",
    "s = ProblemaGrafo()\n",
    "print('---------------- IDA* pedagógico ----------------')\n",
    "f=lambda n: n.path_cost + s.h1(n)\n",
    "res_IDAstar,visitados=ida_star_graph_search_count(s,f,True)\n",
    "if res_IDAstar:\n",
    "    print(\"\\nSolução:\",res_IDAstar.solution(),'com custo',res_IDAstar.path_cost)\n",
    "else:\n",
    "    print('\\nSem Solução')\n",
    "print('Visitados:',visitados)\n",
    "```"
   ]
  },
  {
   "cell_type": "markdown",
   "metadata": {},
   "source": [
    "```python\n",
    "---------------- IDA* pedagógico ----------------\n",
    "------Cutoff at 10\n",
    "\n",
    "I\n",
    "Cost: 0 f= 10\n",
    "\n",
    "A\n",
    "Cost: 3 f= 8\n",
    "\n",
    "C\n",
    "Cost: 4 f= 7\n",
    "\n",
    "D\n",
    "Cost: 9 f= 16\n",
    "Out of cutoff -- minimum out: 16\n",
    "\n",
    "B\n",
    "Cost: 3 f= 8\n",
    "\n",
    "E\n",
    "Cost: 4 f= 8\n",
    "\n",
    "F2\n",
    "Cost: 12 f= 12\n",
    "Out of cutoff -- minimum out: 12\n",
    "\n",
    "\n",
    "------Cutoff at 12\n",
    "\n",
    "I\n",
    "Cost: 0 f= 10\n",
    "\n",
    "A\n",
    "Cost: 3 f= 8\n",
    "\n",
    "C\n",
    "Cost: 4 f= 7\n",
    "\n",
    "D\n",
    "Cost: 9 f= 16\n",
    "Out of cutoff -- minimum out: 16\n",
    "\n",
    "B\n",
    "Cost: 3 f= 8\n",
    "\n",
    "E\n",
    "Cost: 4 f= 8\n",
    "\n",
    "F2\n",
    "Cost: 12 f= 12\n",
    "Goal found within cutoff!\n",
    "\n",
    "Solução: ['ir de I para B', 'ir de B para F2'] com custo 12\n",
    "Visitados: 14\n",
    "```"
   ]
  },
  {
   "cell_type": "markdown",
   "metadata": {},
   "source": [
    "### Exemplo 2\n",
    "Usemos agora uma variante do grafo duplo mas sem ciclos em que procuramos um estado final que não existe. O IDA* terá que falhar, devolvendo `None` + o número de visitados."
   ]
  },
  {
   "cell_type": "markdown",
   "metadata": {},
   "source": [
    "```python\n",
    "grafoDuploLimpo= {'I':{'A':3,'B':3},\n",
    "             'A':{'C':1,'D':6},\n",
    "             'B':{'E':1,'F2':9},\n",
    "             'C':{'D':4},\n",
    "             'D':{'B':3,'F1':6},\n",
    "             'F1':{'C':2},\n",
    "             'E':{'F2':5},\n",
    "             'F2':{}}\n",
    "\n",
    "hDuploLimpo = {'A':5,'B':5,'C':3,'D':7,'E':4,'F1':0,'F2':0, 'I':10 }\n",
    "    \n",
    "s = ProblemaGrafo('I',['X'],grafoDuploLimpo,hDuploLimpo)\n",
    "```"
   ]
  },
  {
   "cell_type": "markdown",
   "metadata": {},
   "source": [
    "e chamemos a função pedida sem o modo pedagógico activo:"
   ]
  },
  {
   "cell_type": "markdown",
   "metadata": {},
   "source": [
    "```python\n",
    "print('---------------- IDA* ----------------')\n",
    "f=lambda n: n.path_cost + s.h1(n)\n",
    "res_IDAstar,visitados=ida_star_graph_search_count(s,f)\n",
    "if res_IDAstar:\n",
    "    print(\"\\nSolução:\",res_IDAstar.solution(),'com custo',res_IDAstar.path_cost)\n",
    "else:\n",
    "    print('\\nSem Solução')\n",
    "print('Visitados:',visitados)\n",
    "```"
   ]
  },
  {
   "cell_type": "markdown",
   "metadata": {},
   "source": [
    "```python\n",
    "---------------- IDA* ----------------\n",
    "\n",
    "Sem Solução\n",
    "Visitados: 22\n",
    "```"
   ]
  },
  {
   "cell_type": "markdown",
   "metadata": {},
   "source": [
    "Agora com o modo `pédagogique active`."
   ]
  },
  {
   "cell_type": "markdown",
   "metadata": {},
   "source": [
    "```python\n",
    "print('---------------- IDA* ----------------')\n",
    "f=lambda n: n.path_cost + s.h1(n)\n",
    "res_IDAstar,visitados=ida_star_graph_search_count(s,f,True)\n",
    "if res_IDAstar:\n",
    "    print(\"\\nSolução:\",res_IDAstar.solution(),'com custo',res_IDAstar.path_cost)\n",
    "else:\n",
    "    print('\\nSem Solução')\n",
    "print('Visitados:',visitados)\n",
    "``` "
   ]
  },
  {
   "cell_type": "markdown",
   "metadata": {},
   "source": [
    "```python\n",
    "---------------- IDA* ----------------\n",
    "------Cutoff at 10\n",
    "\n",
    "I\n",
    "Cost: 0 f= 10\n",
    "\n",
    "A\n",
    "Cost: 3 f= 8\n",
    "\n",
    "C\n",
    "Cost: 4 f= 7\n",
    "\n",
    "D\n",
    "Cost: 9 f= 16\n",
    "Out of cutoff -- minimum out: 16\n",
    "\n",
    "B\n",
    "Cost: 3 f= 8\n",
    "\n",
    "E\n",
    "Cost: 4 f= 8\n",
    "\n",
    "F2\n",
    "Cost: 12 f= 12\n",
    "Out of cutoff -- minimum out: 12\n",
    "\n",
    "\n",
    "------Cutoff at 12\n",
    "\n",
    "I\n",
    "Cost: 0 f= 10\n",
    "\n",
    "A\n",
    "Cost: 3 f= 8\n",
    "\n",
    "C\n",
    "Cost: 4 f= 7\n",
    "\n",
    "D\n",
    "Cost: 9 f= 16\n",
    "Out of cutoff -- minimum out: 16\n",
    "\n",
    "B\n",
    "Cost: 3 f= 8\n",
    "\n",
    "E\n",
    "Cost: 4 f= 8\n",
    "\n",
    "F2\n",
    "Cost: 12 f= 12\n",
    "\n",
    "\n",
    "------Cutoff at 16\n",
    "\n",
    "I\n",
    "Cost: 0 f= 10\n",
    "\n",
    "A\n",
    "Cost: 3 f= 8\n",
    "\n",
    "C\n",
    "Cost: 4 f= 7\n",
    "\n",
    "D\n",
    "Cost: 9 f= 16\n",
    "\n",
    "F1\n",
    "Cost: 15 f= 15\n",
    "\n",
    "B\n",
    "Cost: 3 f= 8\n",
    "\n",
    "E\n",
    "Cost: 4 f= 8\n",
    "\n",
    "F2\n",
    "Cost: 12 f= 12\n",
    "\n",
    "Sem Solução\n",
    "Visitados: 22\n",
    "```"
   ]
  },
  {
   "cell_type": "markdown",
   "metadata": {},
   "source": [
    "### Exemplo 3\n",
    "Voltemos ao nosso problema preferido, o Medo Total"
   ]
  },
  {
   "cell_type": "markdown",
   "metadata": {},
   "source": [
    "```python\n",
    "parametros=\"T=15\\nM=6\\nP=10\"\n",
    "linha1= \"= = = = = =\\n\"\n",
    "linha2= \"= * F @ * =\\n\"\n",
    "linha3= \"= . . . . =\\n\"\n",
    "linha4= \"= . = . . =\\n\"\n",
    "linha5= \"= . = . . =\\n\"\n",
    "linha6= \"= = = = = =\\n\"\n",
    "grelha=linha1+linha2+linha3+linha4+linha5+linha6\n",
    "mundoStandard2=parametros + \"\\n\" + grelha\n",
    "gx=MedoTotal(mundoStandard2)\n",
    "print(gx.display(gx.initial))\n",
    "```"
   ]
  },
  {
   "cell_type": "markdown",
   "metadata": {},
   "source": [
    "``` python\n",
    "Tempo: 15\n",
    "Medo: 6\n",
    "= = = = = = \n",
    "= * F @ * = \n",
    "= . . . . = \n",
    "= . = . . = \n",
    "= . = . . = \n",
    "= = = = = = \n",
    "```"
   ]
  },
  {
   "cell_type": "markdown",
   "metadata": {},
   "source": [
    "Apliquemos a função que aplica o IDA*"
   ]
  },
  {
   "cell_type": "markdown",
   "metadata": {},
   "source": [
    "``` python\n",
    "print('---------------- IDA* ----------------')\n",
    "f=lambda n: n.path_cost + gx.minimal_h(n)\n",
    "res_IDAstar,visitados=ida_star_graph_search_count(gx,f)\n",
    "if res_IDAstar:\n",
    "    print(\"\\nSolução:\",res_IDAstar.solution(),'com custo',res_IDAstar.path_cost)\n",
    "else:\n",
    "    print('\\nSem Solução')\n",
    "print('Visitados:',visitados)\n",
    "```"
   ]
  },
  {
   "cell_type": "markdown",
   "metadata": {},
   "source": [
    "```python\n",
    "---------------- IDA* ----------------\n",
    "\n",
    "Solução: ['E', 'S', 'S', 'S', 'W', 'N', 'N', 'W', 'W', 'N', 'S', 'S', 'S', 'N', 'S'] com custo 18\n",
    "Visitados: 1919\n",
    "```"
   ]
  },
  {
   "cell_type": "markdown",
   "metadata": {},
   "source": [
    "Talvez não seja boa ideia mostrarmos o rasto do processo de procura, porque poderá ser pesadamente pedagógico e o mesmo acontece com o exemplo seguinte."
   ]
  },
  {
   "cell_type": "markdown",
   "metadata": {},
   "source": [
    "### Exemplo 4\n",
    "Vejemos um puzzle MedoTotal mais desafiante e comparemos o tempo para chegar à solução, com o A* nas duas versões grafo e em árvore."
   ]
  },
  {
   "cell_type": "markdown",
   "metadata": {},
   "source": [
    "```python\n",
    "parametros=\"T=45\\nM=6\\nP=10\"\n",
    "linha1= \"= = = = = = = = = =\\n\"\n",
    "linha2= \"= @ . * . . * . . =\\n\"\n",
    "linha3= \"= . = = = = = = . =\\n\"\n",
    "linha4= \"= . = F * . . . . =\\n\"\n",
    "linha5= \"= . = = = = = = . =\\n\"\n",
    "linha6= \"= . = . . . . . . =\\n\"\n",
    "linha7= \"= . = . . . . . . =\\n\"\n",
    "linha8= \"= * . . . . . . . =\\n\"\n",
    "linha9= \"= . . . . . . . . =\\n\"\n",
    "linha10=\"= = = = = = = = = =\\n\"\n",
    "grelha=linha1+linha2+linha3+linha4+linha5+linha6+linha7+linha8+linha9+linha10\n",
    "mundoStandardx=parametros + \"\\n\" + grelha\n",
    "gx=MedoTotal(mundoStandardx)\n",
    "print(gx.display(gx.initial))\n",
    "``` "
   ]
  },
  {
   "cell_type": "markdown",
   "metadata": {},
   "source": [
    "```python\n",
    "Tempo: 45\n",
    "Medo: 6\n",
    "= = = = = = = = = = \n",
    "= @ . * . . * . . = \n",
    "= . = = = = = = . = \n",
    "= . = F * . . . . = \n",
    "= . = = = = = = . = \n",
    "= . = . . . . . . = \n",
    "= . = . . . . . . = \n",
    "= * . . . . . . . = \n",
    "= . . . . . . . . = \n",
    "= = = = = = = = = =\n",
    "```"
   ]
  },
  {
   "cell_type": "markdown",
   "metadata": {},
   "source": [
    "O A* em árvore"
   ]
  },
  {
   "cell_type": "markdown",
   "metadata": {},
   "source": [
    "```python\n",
    "print('---------------- A* tree----------------')\n",
    "start = timeit.default_timer()\n",
    "res_astar,expandidos = astar_search_tree_count(gx,gx.minimal_h)\n",
    "stop = timeit.default_timer()\n",
    "timeGraph = stop-start\n",
    "print('Time:', timeGraph)\n",
    "print('Expandidos',expandidos)\n",
    "if res_astar:\n",
    "    print(\"Solução:\",res_astar.solution(),'com custo',res_astar.path_cost)\n",
    "else:\n",
    "    print('Sem Solução')\n",
    "```"
   ]
  },
  {
   "cell_type": "markdown",
   "metadata": {},
   "source": [
    "``` python\n",
    "---------------- A* tree----------------\n",
    "Time: 1.29444239999998\n",
    "Expandidos 35382\n",
    "Solução: ['S', 'S', 'S', 'S', 'S', 'S', 'E', 'W', 'N', 'N', 'N', 'N', 'N', 'N', 'E', 'E', 'E', 'W', 'W', 'E', 'E', 'E', 'W', 'E', 'E', 'E', 'W', 'E', 'E', 'S', 'S', 'W', 'W', 'W', 'W', 'E', 'E', 'E', 'E', 'S', 'S', 'S', 'S', 'S', 'W'] com custo 66\n",
    "```"
   ]
  },
  {
   "cell_type": "markdown",
   "metadata": {},
   "source": [
    "O A* em grafo"
   ]
  },
  {
   "cell_type": "markdown",
   "metadata": {},
   "source": [
    "```python\n",
    "print('---------------- A* grafo----------------')\n",
    "start = timeit.default_timer()\n",
    "res_astar,expandidos = astar_search_plus_count(gx,gx.minimal_h)\n",
    "stop = timeit.default_timer()\n",
    "timeGraph = stop-start\n",
    "print('Time:', timeGraph)\n",
    "print('Expandidos',expandidos)\n",
    "if res_astar:\n",
    "    print(\"Solução:\",res_astar.solution(),'com custo',res_astar.path_cost)\n",
    "else:\n",
    "    print('Sem Solução')\n",
    "```"
   ]
  },
  {
   "cell_type": "markdown",
   "metadata": {},
   "source": [
    "```python\n",
    "---------------- A* grafo----------------\n",
    "Time: 2.385914800000137\n",
    "Expandidos 21974\n",
    "Solução: ['S', 'S', 'S', 'S', 'S', 'S', 'E', 'W', 'N', 'N', 'N', 'N', 'N', 'N', 'E', 'E', 'W', 'E', 'E', 'W', 'E', 'E', 'W', 'E', 'E', 'E', 'W', 'E', 'E', 'S', 'S', 'W', 'W', 'W', 'W', 'E', 'E', 'E', 'E', 'S', 'S', 'S', 'S', 'S', 'W'] com custo 66\n",
    "```"
   ]
  },
  {
   "cell_type": "markdown",
   "metadata": {},
   "source": [
    "O IDA* em grafo"
   ]
  },
  {
   "cell_type": "markdown",
   "metadata": {},
   "source": [
    "```python\n",
    "print('---------------- IDA* grafo----------------')\n",
    "start = timeit.default_timer()\n",
    "f=lambda n: n.path_cost + gx.minimal_h(n)\n",
    "res_IDAstar,visitados=ida_star_graph_search_count(gx,f)\n",
    "stop = timeit.default_timer()\n",
    "timeGraph = stop-start\n",
    "print('Time:', timeGraph)\n",
    "if type(res_astar)!=tuple:\n",
    "    print(\"Solução:\",res_IDAstar.solution(),'com custo',res_IDAstar.path_cost)\n",
    "else:\n",
    "    print('Sem Solução')\n",
    "print('Visitados:',visitados)\n",
    "```"
   ]
  },
  {
   "cell_type": "markdown",
   "metadata": {},
   "source": [
    "```python\n",
    "---------------- IDA* grafo----------------\n",
    "Time: 5.241901999999982\n",
    "Solução: ['S', 'S', 'S', 'S', 'S', 'S', 'E', 'W', 'N', 'N', 'N', 'N', 'N', 'N', 'E', 'E', 'W', 'W', 'E', 'E', 'E', 'E', 'W', 'E', 'E', 'E', 'W', 'E', 'E', 'S', 'S', 'W', 'W', 'W', 'W', 'E', 'E', 'E', 'E', 'S', 'S', 'W', 'W', 'W', 'W'] com custo 66\n",
    "Visitados: 144987\n",
    "```"
   ]
  },
  {
   "cell_type": "markdown",
   "metadata": {},
   "source": [
    "Fica para voçês pensarem porque será que o A* em árvore foi melhor do que a versão em grafo. E será que isso acontece para mundos Medo Total mais complexos. Neste exemplo, o IDA* em grafo revelou-se mais lento do que o A*. E a versão IDA* em árvore seria também melhor do que a versão em grafo? E será mais competitiva do que o A* para mundos MedoTotal mais complexos e mais desafiantes?"
   ]
  },
  {
   "cell_type": "markdown",
   "metadata": {},
   "source": [
    "## Cotação\n",
    "Esta pergunta vale 0.6 valores num total de 1.75 da avaliação contínua."
   ]
  },
  {
   "cell_type": "markdown",
   "metadata": {},
   "source": [
    "<img src=\"Imagens\\rollingAsteriskus.gif\" alt=\"Drawing\" style=\"width: 200px;\"/>"
   ]
  }
 ],
 "metadata": {
  "kernelspec": {
   "display_name": "Python 3",
   "language": "python",
   "name": "python3"
  },
  "language_info": {
   "codemirror_mode": {
    "name": "ipython",
    "version": 3
   },
   "file_extension": ".py",
   "mimetype": "text/x-python",
   "name": "python",
   "nbconvert_exporter": "python",
   "pygments_lexer": "ipython3",
   "version": "3.7.3"
  }
 },
 "nbformat": 4,
 "nbformat_minor": 2
}
