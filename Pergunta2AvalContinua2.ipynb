{
 "cells": [
  {
   "cell_type": "markdown",
   "metadata": {},
   "source": [
    "# Pergunta 2 - Profundidade Total\n",
    "## Avaliação Contínua II - IIA 23/24\n",
    "\n",
    "<img src=\"Imagens\\True_vertical_depth.jpg\" alt=\"Drawing\" style=\"width: 200px;\"/>"
   ]
  },
  {
   "cell_type": "markdown",
   "metadata": {},
   "source": [
    "## Introdução\n",
    "No problema MedoTotal o Pacman deseja manter o fantasma amedrontado durante N instantes, correspondendo cada instante a uma acção, um movimento ortogonal para uma casa livre. Notem que o Pacman é irrequieto e nunca fica parado, sendo sempre obrigado a executar um movimento em cada instante. Sendo assim, todas as soluções vão estar à mesma profundidade: se o objectivo é manter o fantasma amedrontado durante 20 instantes, por exemplo, então todas as soluções se encontram à profundidade 20, em que o último nível da árvore de procura é apenas formado por estados finais. Apesar de todos os estados finais se encontrarem à mesma profundidade não implica que os custos sejam todos iguais, isto porque o custo correspnde à soma da frequência de visita das casas que fazem parte do caminho. \n",
    "\n",
    "Queremos testar a viabilidade da procura em profundidade-primeiro exaustiva, que vai tentar encontrar a solução óptima explorando todo o espaço de estados. A vantagem da procura em profundidade é o uso poupado da memória, i.e., a fronteira não cresce muito, tendo uma complexidade espacial linear. Ao ser exaustiva, esta variante da profundidade-primeiro, irá *pescar* todas as soluções, actualizando a melhor, sempre que encontra uma nova solução com menor custo.\n",
    "\n",
    "No entanto, se quisermos optimizar a procura, podemos impedir a expansão de nós que irão fatalmente ser piores do que a solução melhor até ao momento. Basta não gerar nós que tenham custos que sejam iguais ou maiores do que o custo da melhor solução até ao momento.\n",
    "\n",
    "Se a profundidade total for em grafo não há a garantia que encontremos a solução óptima nem todas as soluções, mas neste caso do problema de Medo Total, todos os estados iguais têm o mesmo custo devido ao registo da frequência de visitas e a versão em grafo até garante a optimalidade. No entanto, como não o garante em geral optámos pela versão em arvore."
   ]
  },
  {
   "cell_type": "markdown",
   "metadata": {},
   "source": [
    "## Objectivo\n",
    "O objectivo é desenvolver a função `depth_first_tree_search_all` que dado uma instância da classe `Problem` como input executa uma procura em profundidade total em árvore, com teste do objectivo na geração dos estados sucessores, e que devolve a melhor solução, contando o número de estados visitados, o maior tamanho da fronteira e o número de estados finais. Terá também dois argumentos booleanos opcionais, com valores a False por omissão. No primeiro poderemos querer indicar que desejamos fazer uma optimização, impedindo a adição à fronteira de nós piores do que a melhor solução encontrada até ao momento. No segundo, indicamos se queremos a versão *verbosa* que permite seguir o rasto da procura, fazendo o display do estado **popped** da fronteira, juntamente com o custo associado e assinalando os estados finais e a actualização do melhor. Para fazerem o display devem usar o método `display` da classe `MedoTotal`.\n",
    "\n",
    "A ideia é verificar se esta variante da profundidade é competitiva com o algoritmo optimal custo uniforme, em grafo, para várias instâncias do problema `MedoTotal` (a classe `Medototal` está implementada no ficheiro `MedoTotal.py`).\n",
    "\n",
    "**Nota:** Pelo facto da procura em profundidade usar uma pilha a ordem das acções não é respeitada e assim façam com que a ordem dos visitados e expandidos seja a mesma da lista de acções: primeiro norte, depois oeste, depois leste e finalmente sul."
   ]
  },
  {
   "cell_type": "markdown",
   "metadata": {},
   "source": [
    "## Testes\n"
   ]
  },
  {
   "cell_type": "markdown",
   "metadata": {},
   "source": [
    "### Exemplo 1\n",
    "Comecemos por um exemplo pequeno, em que possamos seguir o processo de procura."
   ]
  },
  {
   "cell_type": "markdown",
   "metadata": {},
   "source": [
    "```python\n",
    "parametros=\"T=6\\nM=4\\nP=10\"\n",
    "linha1= \"= = = = = =\\n\"\n",
    "linha2= \"= . @ F * =\\n\"\n",
    "linha3= \"= . . . . =\\n\"\n",
    "linha4= \"= . = . . =\\n\"\n",
    "linha5= \"= . = . . =\\n\"\n",
    "linha6= \"= = = = = =\\n\"\n",
    "grelha=linha1+linha2+linha3+linha4+linha5+linha6\n",
    "mundoStandard2=parametros + \"\\n\" + grelha\n",
    "gx=MedoTotal(mundoStandard2)\n",
    "print(gx.display(gx.initial))\n",
    "```"
   ]
  },
  {
   "cell_type": "markdown",
   "metadata": {},
   "source": [
    "```python\n",
    "Tempo: 6\n",
    "Medo: 4\n",
    "= = = = = = \n",
    "= . @ F * = \n",
    "= . . . . = \n",
    "= . = . . = \n",
    "= . = . . = \n",
    "= = = = = = \n",
    "```"
   ]
  },
  {
   "cell_type": "markdown",
   "metadata": {},
   "source": [
    "Executemos a profundidade total, sem modo *verboso* e sem optimização."
   ]
  },
  {
   "cell_type": "markdown",
   "metadata": {},
   "source": [
    "```python\n",
    "start = timeit.default_timer()\n",
    "\n",
    "resultado,max_mem,visitados,finais = depth_first_graph_search_all_count(gx)\n",
    "\n",
    "stop = timeit.default_timer()\n",
    "print('*'*20)\n",
    "if resultado:\n",
    "    print(\"Solução Prof-total (árvore) com custo\", str(resultado.path_cost)+\":\")\n",
    "    print(resultado.solution())\n",
    "else:\n",
    "    print('Sem Solução')\n",
    "print('Visitados=',visitados)\n",
    "print('Dimensão máxima da memória',max_mem)\n",
    "print('Estados finais:',finais)\n",
    "print('Time: ', stop - start)\n",
    "```"
   ]
  },
  {
   "cell_type": "markdown",
   "metadata": {},
   "source": [
    "``` python\n",
    "********************\n",
    "Solução Prof-total (grafo) com custo 7:\n",
    "['S', 'E', 'E', 'N', 'S', 'S']\n",
    "Visitados= 12\n",
    "Dimensão máxima da memória 2\n",
    "Estados finais: 3\n",
    "Time:  0.0002906999999936488\n",
    "```"
   ]
  },
  {
   "cell_type": "markdown",
   "metadata": {},
   "source": [
    "Executemos a profundidade total, com o modo *verboso* e sem optimização.\n",
    "No modo verbose, vamos mostrando os estados expandidos e também os estados finais, que são contabilizados como visitados mas que não vão entrar na fronteira."
   ]
  },
  {
   "cell_type": "raw",
   "metadata": {},
   "source": [
    "```python\n",
    "start = timeit.default_timer()\n",
    "\n",
    "resultado,max_mem,visitados,finais = depth_first_tree_search_all_count(gx,verbose=True)\n",
    "\n",
    "stop = timeit.default_timer()\n",
    "print('*'*20)\n",
    "if resultado:\n",
    "    print(\"\\nSolução Prof-total (árvore) com custo\", str(resultado.path_cost)+\":\")\n",
    "    print(resultado.solution())\n",
    "else:\n",
    "    print('\\nSem Solução')\n",
    "print('Visitados=',visitados)\n",
    "print('Dimensão máxima da memória',max_mem)\n",
    "print('Estados finais:',finais)\n",
    "print('Time: ', stop - start)\n",
    "```"
   ]
  },
  {
   "cell_type": "markdown",
   "metadata": {},
   "source": [
    "```python\n",
    "---------------------\n",
    "\n",
    "Tempo: 6\n",
    "Medo: 4\n",
    "= = = = = = \n",
    "= . @ F * = \n",
    "= . . . . = \n",
    "= . = . . = \n",
    "= . = . . = \n",
    "= = = = = = \n",
    "\n",
    "Custo: 0\n",
    "---------------------\n",
    "\n",
    "Tempo: 5\n",
    "Medo: 3\n",
    "= = = = = = \n",
    "= @ . F * = \n",
    "= . . . . = \n",
    "= . = . . = \n",
    "= . = . . = \n",
    "= = = = = = \n",
    "\n",
    "Custo: 1\n",
    "---------------------\n",
    "\n",
    "Tempo: 4\n",
    "Medo: 2\n",
    "= = = = = = \n",
    "= . @ F * = \n",
    "= . . . . = \n",
    "= . = . . = \n",
    "= . = . . = \n",
    "= = = = = = \n",
    "\n",
    "Custo: 3\n",
    "---------------------\n",
    "\n",
    "Tempo: 5\n",
    "Medo: 3\n",
    "= = = = = = \n",
    "= . . F * = \n",
    "= . @ . . = \n",
    "= . = . . = \n",
    "= . = . . = \n",
    "= = = = = = \n",
    "\n",
    "Custo: 1\n",
    "---------------------\n",
    "\n",
    "Tempo: 4\n",
    "Medo: 2\n",
    "= = = = = = \n",
    "= . @ F * = \n",
    "= . . . . = \n",
    "= . = . . = \n",
    "= . = . . = \n",
    "= = = = = = \n",
    "\n",
    "Custo: 3\n",
    "---------------------\n",
    "\n",
    "Tempo: 4\n",
    "Medo: 2\n",
    "= = = = = = \n",
    "= . . F * = \n",
    "= . . @ . = \n",
    "= . = . . = \n",
    "= . = . . = \n",
    "= = = = = = \n",
    "\n",
    "Custo: 2\n",
    "---------------------\n",
    "\n",
    "Tempo: 3\n",
    "Medo: 1\n",
    "= = = = = = \n",
    "= . . F * = \n",
    "= . . . @ = \n",
    "= . = . . = \n",
    "= . = . . = \n",
    "= = = = = = \n",
    "\n",
    "Custo: 3\n",
    "---------------------\n",
    "\n",
    "Tempo: 2\n",
    "Medo: 10\n",
    "= = = = = = \n",
    "= . . F @ = \n",
    "= . . . . = \n",
    "= . = . . = \n",
    "= . = . . = \n",
    "= = = = = = \n",
    "\n",
    "Custo: 4\n",
    "---------------------\n",
    "\n",
    "Tempo: 1\n",
    "Medo: 9\n",
    "= = = = = = \n",
    "= . . F . = \n",
    "= . . . @ = \n",
    "= . = . . = \n",
    "= . = . . = \n",
    "= = = = = = \n",
    "\n",
    "Custo: 6\n",
    "---------------------\n",
    "\n",
    "Tempo: 0\n",
    "Medo: 8\n",
    "= = = = = = \n",
    "= . . F @ = \n",
    "= . . . . = \n",
    "= . = . . = \n",
    "= . = . . = \n",
    "= = = = = = \n",
    "\n",
    "GGGGooooooallllll --------- com o custo: 8\n",
    "Di best goal até agora\n",
    "---------------------\n",
    "\n",
    "Tempo: 0\n",
    "Medo: 8\n",
    "= = = = = = \n",
    "= . . F . = \n",
    "= . . @ . = \n",
    "= . = . . = \n",
    "= . = . . = \n",
    "= = = = = = \n",
    "\n",
    "GGGGooooooallllll --------- com o custo: 8\n",
    "---------------------\n",
    "\n",
    "Tempo: 0\n",
    "Medo: 8\n",
    "= = = = = = \n",
    "= . . F . = \n",
    "= . . . . = \n",
    "= . = . @ = \n",
    "= . = . . = \n",
    "= = = = = = \n",
    "\n",
    "GGGGooooooallllll --------- com o custo: 7\n",
    "Di best goal até agora\n",
    "********************\n",
    "Solução Prof-total (grafo) com custo 7:\n",
    "['S', 'E', 'E', 'N', 'S', 'S']\n",
    "Visitados= 12\n",
    "Dimensão máxima da memória 2\n",
    "Estados finais: 3\n",
    "Time:  0.0020081000000118365\n",
    "```"
   ]
  },
  {
   "cell_type": "markdown",
   "metadata": {},
   "source": [
    "Agora só com optimização, sem rasto:"
   ]
  },
  {
   "cell_type": "markdown",
   "metadata": {},
   "source": [
    "```python\n",
    "start = timeit.default_timer()\n",
    "\n",
    "resultado,max_mem,visitados,finais = depth_first_graph_search_all_count(gx,True,False)\n",
    "\n",
    "stop = timeit.default_timer()\n",
    "print('*'*20)\n",
    "if resultado:\n",
    "    print(\"\\nSolução Prof-total (árvore) com custo\", str(resultado.path_cost)+\":\")\n",
    "    print(resultado.solution())\n",
    "else:\n",
    "    print('\\nSem Solução')\n",
    "print('Visitados=',visitados)\n",
    "print('Dimensão máxima da memória',max_mem)\n",
    "print('Estados finais:',finais)\n",
    "print('Time: ', stop - start)\n",
    "```"
   ]
  },
  {
   "cell_type": "markdown",
   "metadata": {},
   "source": [
    "``` python\n",
    "********************\n",
    "Solução Prof-total (árvore) com custo 7:\n",
    "['S', 'E', 'E', 'N', 'S', 'S']\n",
    "Visitados= 11\n",
    "Dimensão máxima da memória 2\n",
    "Estados finais: 2\n",
    "Time:  0.0003577999999606618\n",
    "```"
   ]
  },
  {
   "cell_type": "markdown",
   "metadata": {},
   "source": [
    "Agora com optimização e em modo verboso:"
   ]
  },
  {
   "cell_type": "markdown",
   "metadata": {},
   "source": [
    "```python\n",
    "start = timeit.default_timer()\n",
    "\n",
    "resultado,max_mem,visitados,finais = depth_first_graph_search_all_count(gx,True,True)\n",
    "\n",
    "stop = timeit.default_timer()\n",
    "print('*'*20)\n",
    "if resultado:\n",
    "    print(\"Solução Prof-total (grafo) com custo\", str(resultado.path_cost)+\":\")\n",
    "    print(resultado.solution())\n",
    "else:\n",
    "    print('Sem Solução')\n",
    "print('Visitados=',visitados)\n",
    "print('Dimensão máxima da memória',max_mem)\n",
    "print('Estados finais:',finais)\n",
    "print('Time: ', stop - start)\n",
    "```"
   ]
  },
  {
   "cell_type": "markdown",
   "metadata": {},
   "source": [
    "```python\n",
    "---------------------\n",
    "\n",
    "Tempo: 6\n",
    "Medo: 4\n",
    "= = = = = = \n",
    "= . @ F * = \n",
    "= . . . . = \n",
    "= . = . . = \n",
    "= . = . . = \n",
    "= = = = = = \n",
    "\n",
    "Custo: 0\n",
    "---------------------\n",
    "\n",
    "Tempo: 5\n",
    "Medo: 3\n",
    "= = = = = = \n",
    "= @ . F * = \n",
    "= . . . . = \n",
    "= . = . . = \n",
    "= . = . . = \n",
    "= = = = = = \n",
    "\n",
    "Custo: 1\n",
    "---------------------\n",
    "\n",
    "Tempo: 4\n",
    "Medo: 2\n",
    "= = = = = = \n",
    "= . @ F * = \n",
    "= . . . . = \n",
    "= . = . . = \n",
    "= . = . . = \n",
    "= = = = = = \n",
    "\n",
    "Custo: 3\n",
    "---------------------\n",
    "\n",
    "Tempo: 5\n",
    "Medo: 3\n",
    "= = = = = = \n",
    "= . . F * = \n",
    "= . @ . . = \n",
    "= . = . . = \n",
    "= . = . . = \n",
    "= = = = = = \n",
    "\n",
    "Custo: 1\n",
    "---------------------\n",
    "\n",
    "Tempo: 4\n",
    "Medo: 2\n",
    "= = = = = = \n",
    "= . @ F * = \n",
    "= . . . . = \n",
    "= . = . . = \n",
    "= . = . . = \n",
    "= = = = = = \n",
    "\n",
    "Custo: 3\n",
    "---------------------\n",
    "\n",
    "Tempo: 4\n",
    "Medo: 2\n",
    "= = = = = = \n",
    "= . . F * = \n",
    "= . . @ . = \n",
    "= . = . . = \n",
    "= . = . . = \n",
    "= = = = = = \n",
    "\n",
    "Custo: 2\n",
    "---------------------\n",
    "\n",
    "Tempo: 3\n",
    "Medo: 1\n",
    "= = = = = = \n",
    "= . . F * = \n",
    "= . . . @ = \n",
    "= . = . . = \n",
    "= . = . . = \n",
    "= = = = = = \n",
    "\n",
    "Custo: 3\n",
    "---------------------\n",
    "\n",
    "Tempo: 2\n",
    "Medo: 10\n",
    "= = = = = = \n",
    "= . . F @ = \n",
    "= . . . . = \n",
    "= . = . . = \n",
    "= . = . . = \n",
    "= = = = = = \n",
    "\n",
    "Custo: 4\n",
    "---------------------\n",
    "\n",
    "Tempo: 1\n",
    "Medo: 9\n",
    "= = = = = = \n",
    "= . . F . = \n",
    "= . . . @ = \n",
    "= . = . . = \n",
    "= . = . . = \n",
    "= = = = = = \n",
    "\n",
    "Custo: 6\n",
    "---------------------\n",
    "\n",
    "Tempo: 0\n",
    "Medo: 8\n",
    "= = = = = = \n",
    "= . . F @ = \n",
    "= . . . . = \n",
    "= . = . . = \n",
    "= . = . . = \n",
    "= = = = = = \n",
    "\n",
    "GGGGooooooallllll --------- com o custo: 8\n",
    "Di best goal até agora\n",
    "---------------------\n",
    "\n",
    "Tempo: 0\n",
    "Medo: 8\n",
    "= = = = = = \n",
    "= . . F . = \n",
    "= . . . . = \n",
    "= . = . @ = \n",
    "= . = . . = \n",
    "= = = = = = \n",
    "\n",
    "GGGGooooooallllll --------- com o custo: 7\n",
    "Di best goal até agora\n",
    "Visitas= 12\n",
    "********************\n",
    "Solução Prof-total (árvore) com custo 7:\n",
    "['S', 'E', 'E', 'N', 'S', 'S']\n",
    "Visitados= 11\n",
    "Dimensão máxima da memória 2\n",
    "Estados finais: 2\n",
    "Time:  0.004836199999999735\n",
    "```"
   ]
  },
  {
   "cell_type": "markdown",
   "metadata": {},
   "source": [
    "Se usarmos o custo uniforme em grafo:"
   ]
  },
  {
   "cell_type": "markdown",
   "metadata": {},
   "source": [
    "```python\n",
    "start = timeit.default_timer()\n",
    "\n",
    "resultado,expandidos = uniform_cost_search_plus_count(gx)\n",
    "\n",
    "stop = timeit.default_timer()\n",
    "print('*'*20)\n",
    "if resultado:\n",
    "    print(\"Solução Custo Uniforme (grafo) com custo\", str(resultado.path_cost)+\":\")\n",
    "    print(resultado.solution())\n",
    "else:\n",
    "    print('Sem Solução')\n",
    "print('Expandidos=',expandidos)\n",
    "print('Time: ', stop - start)\n",
    "```"
   ]
  },
  {
   "cell_type": "markdown",
   "metadata": {},
   "source": [
    "```python\n",
    "********************\n",
    "Solução Custo Uniforme (grafo) com custo 7:\n",
    "['S', 'E', 'E', 'N', 'S', 'S']\n",
    "Expandidos= 9\n",
    "Time:  0.006226299999980256\n",
    "```"
   ]
  },
  {
   "cell_type": "markdown",
   "metadata": {},
   "source": [
    "### Exemplo 2\n",
    "Vejemos um exemplo usando a procura."
   ]
  },
  {
   "cell_type": "markdown",
   "metadata": {},
   "source": [
    "``` python\n",
    "parametros=\"T=15\\nM=6\\nP=10\"\n",
    "linha1= \"= = = = = =\\n\"\n",
    "linha2= \"= * F @ * =\\n\"\n",
    "linha3= \"= . . . . =\\n\"\n",
    "linha4= \"= . = . . =\\n\"\n",
    "linha5= \"= . = . . =\\n\"\n",
    "linha6= \"= = = = = =\\n\"\n",
    "grelha=linha1+linha2+linha3+linha4+linha5+linha6\n",
    "mundoStandard2=parametros + \"\\n\" + grelha\n",
    "gx=MedoTotal(mundoStandard2)\n",
    "print(gx.display(gx.initial))\n",
    "```"
   ]
  },
  {
   "cell_type": "markdown",
   "metadata": {},
   "source": [
    "```python\n",
    "Tempo: 15\n",
    "Medo: 6\n",
    "= = = = = = \n",
    "= * F @ * = \n",
    "= . . . . = \n",
    "= . = . . = \n",
    "= . = . . = \n",
    "= = = = = = \n",
    "```"
   ]
  },
  {
   "cell_type": "markdown",
   "metadata": {},
   "source": [
    "Profundidade total sem optimização"
   ]
  },
  {
   "cell_type": "markdown",
   "metadata": {},
   "source": [
    "```python\n",
    "start = timeit.default_timer()\n",
    "\n",
    "resultado,max_mem,visitados,finais = depth_first_graph_search_all_count(gx)\n",
    "\n",
    "stop = timeit.default_timer()\n",
    "print('*'*20)\n",
    "if resultado:\n",
    "    print(\"Solução Prof-total (grafo) com custo\", str(resultado.path_cost)+\":\")\n",
    "    print(resultado.solution())\n",
    "else:\n",
    "    print('Sem Solução')\n",
    "print('Visitados=',visitados)\n",
    "print('Dimensão máxima da memória',max_mem)\n",
    "print('Estados finais:',finais)\n",
    "print('Time: ', stop - start)\n",
    "```"
   ]
  },
  {
   "cell_type": "markdown",
   "metadata": {},
   "source": [
    "```python\n",
    "********************\n",
    "Solução Prof-total (grafo) com custo 18:\n",
    "['E', 'S', 'S', 'S', 'W', 'N', 'N', 'W', 'W', 'N', 'S', 'S', 'S', 'N', 'S']\n",
    "Visitados= 40491\n",
    "Dimensão máxima da memória 19\n",
    "Estados finais: 17716\n",
    "Time:  23.95758410000053\n",
    "```"
   ]
  },
  {
   "cell_type": "markdown",
   "metadata": {},
   "source": [
    "Profundidade total com optimização:"
   ]
  },
  {
   "cell_type": "markdown",
   "metadata": {},
   "source": [
    "```python\n",
    "start = timeit.default_timer()\n",
    "\n",
    "resultado,max_mem,visitados,finais = depth_first_graph_search_all_count(gx,optimal=True)\n",
    "print('*'*20)\n",
    "stop = timeit.default_timer()\n",
    "if resultado:\n",
    "    print(\"Solução Prof-total (grafo) com custo\", str(resultado.path_cost)+\":\")\n",
    "    print(resultado.solution())\n",
    "else:\n",
    "    print('Sem Solução')\n",
    "print('Visitados=',visitados)\n",
    "print('Dimensão máxima da memória',max_mem)\n",
    "print('Estados finais:',finais)\n",
    "print('Time: ', stop - start)\n",
    "```"
   ]
  },
  {
   "cell_type": "markdown",
   "metadata": {},
   "source": [
    "```python\n",
    "********************\n",
    "Solução Prof-total (grafo) com custo 18:\n",
    "['E', 'S', 'S', 'S', 'W', 'N', 'N', 'W', 'W', 'N', 'S', 'S', 'S', 'N', 'S']\n",
    "Visitados= 3434\n",
    "Dimensão máxima da memória 14\n",
    "Estados finais: 13\n",
    "Time:  0.17847410000103991\n",
    "```"
   ]
  },
  {
   "cell_type": "markdown",
   "metadata": {},
   "source": [
    "Se usarmos o custo uniforme em grafo:"
   ]
  },
  {
   "cell_type": "markdown",
   "metadata": {},
   "source": [
    "```python\n",
    "start = timeit.default_timer()\n",
    "\n",
    "resultado,expandidos = uniform_cost_search_plus_count(gx)\n",
    "print('*'*20)\n",
    "stop = timeit.default_timer()\n",
    "if resultado:\n",
    "    print(\"Solução Custo Uniforme (grafo) com custo\", str(resultado.path_cost)+\":\")\n",
    "    print(resultado.solution())\n",
    "else:\n",
    "    print('Sem Solução')\n",
    "print('Expandidos=',expandidos)\n",
    "print('Time: ', stop - start)\n",
    "```"
   ]
  },
  {
   "cell_type": "markdown",
   "metadata": {},
   "source": [
    "```python\n",
    "********************\n",
    "Solução Custo Uniforme (grafo) com custo 18:\n",
    "['S', 'E', 'N', 'S', 'S', 'S', 'W', 'N', 'N', 'W', 'W', 'N', 'S', 'S', 'S']\n",
    "Expandidos= 3052\n",
    "Time:  0.8320883999986108\n",
    "```"
   ]
  },
  {
   "cell_type": "markdown",
   "metadata": {},
   "source": [
    "### Exemplo 3\n",
    "Finalmente um exemplo ainda mais complexo"
   ]
  },
  {
   "cell_type": "markdown",
   "metadata": {},
   "source": [
    "```python\n",
    "parametros=\"T=45\\nM=6\\nP=10\"\n",
    "linha1= \"= = = = = = = = = =\\n\"\n",
    "linha2= \"= @ . * . . * . . =\\n\"\n",
    "linha3= \"= . = = = = = = . =\\n\"\n",
    "linha4= \"= . = F * . . . . =\\n\"\n",
    "linha5= \"= . = = = = = = . =\\n\"\n",
    "linha6= \"= . = . . . . . . =\\n\"\n",
    "linha7= \"= . = . . . . . . =\\n\"\n",
    "linha8= \"= * . . . . . . . =\\n\"\n",
    "linha9= \"= . . . . . . . . =\\n\"\n",
    "linha10=\"= = = = = = = = = =\\n\"\n",
    "grelha=linha1+linha2+linha3+linha4+linha5+linha6+linha7+linha8+linha9+linha10\n",
    "mundoStandardx=parametros + \"\\n\" + grelha\n",
    "gx=MedoTotal(mundoStandardx)\n",
    "print(gx.display(gx.initial))\n",
    "```"
   ]
  },
  {
   "cell_type": "markdown",
   "metadata": {},
   "source": [
    "```python\n",
    "Tempo: 45\n",
    "Medo: 6\n",
    "= = = = = = = = = = \n",
    "= @ . * . . * . . = \n",
    "= . = = = = = = . = \n",
    "= . = F * . . . . = \n",
    "= . = = = = = = . = \n",
    "= . = . . . . . . = \n",
    "= . = . . . . . . = \n",
    "= * . . . . . . . = \n",
    "= . . . . . . . . = \n",
    "= = = = = = = = = = \n",
    "```"
   ]
  },
  {
   "cell_type": "markdown",
   "metadata": {},
   "source": [
    "Vamos executar a profundidade total na versão optimizada"
   ]
  },
  {
   "cell_type": "markdown",
   "metadata": {},
   "source": [
    "```python\n",
    "start = timeit.default_timer()\n",
    "\n",
    "resultado,max_mem,visitados,finais = depth_first_graph_search_all_count(gx,optimal=True)\n",
    "print('*'*20)\n",
    "stop = timeit.default_timer()\n",
    "if resultado:\n",
    "    print(\"Solução Prof-total (grafo) com custo\", str(resultado.path_cost)+\":\")\n",
    "    print(resultado.solution())\n",
    "else:\n",
    "    print('Sem Solução')\n",
    "print('Visitados=',visitados)\n",
    "print('Dimensão máxima da memória',max_mem)\n",
    "print('Estados finais:',finais)\n",
    "print('Time: ', stop - start)\n",
    "```"
   ]
  },
  {
   "cell_type": "markdown",
   "metadata": {},
   "source": [
    "```python\n",
    "********************\n",
    "Solução Prof-total (grafo) com custo 66:\n",
    "['S', 'S', 'S', 'S', 'S', 'S', 'E', 'W', 'N', 'N', 'N', 'N', 'N', 'N', 'E', 'E', 'W', 'W', 'E', 'E', 'E', 'E', 'W', 'E', 'E', 'E', 'W', 'E', 'E', 'S', 'S', 'W', 'W', 'W', 'W', 'E', 'E', 'E', 'E', 'S', 'S', 'W', 'W', 'W', 'W']\n",
    "Visitados= 62374\n",
    "Dimensão máxima da memória 19\n",
    "Estados finais: 24\n",
    "Time:  44.59008910000193\n",
    "```"
   ]
  },
  {
   "cell_type": "markdown",
   "metadata": {},
   "source": [
    "Agora usemos o custo uniforme:"
   ]
  },
  {
   "cell_type": "markdown",
   "metadata": {},
   "source": [
    "```python\n",
    "start = timeit.default_timer()\n",
    "\n",
    "resultado,expandidos = uniform_cost_search_plus_count(gx)\n",
    "print('*'*20)\n",
    "stop = timeit.default_timer()\n",
    "if resultado:\n",
    "    print(\"Solução Custo Uniforme (grafo) com custo\", str(resultado.path_cost)+\":\")\n",
    "    print(resultado.solution())\n",
    "else:\n",
    "    print('Sem Solução')\n",
    "print('Expandidos=',expandidos)\n",
    "print('Time: ', stop - start)\n",
    "```"
   ]
  },
  {
   "cell_type": "markdown",
   "metadata": {},
   "source": [
    "```python\n",
    "********************\n",
    "Solução Custo Uniforme (grafo) com custo 66:\n",
    "['S', 'S', 'S', 'S', 'S', 'S', 'S', 'N', 'N', 'N', 'N', 'N', 'N', 'N', 'E', 'E', 'W', 'E', 'E', 'E', 'W', 'E', 'W', 'E', 'E', 'E', 'E', 'S', 'N', 'S', 'S', 'W', 'W', 'W', 'W', 'E', 'E', 'E', 'E', 'S', 'S', 'W', 'S', 'W', 'S']\n",
    "Expandidos= 50344\n",
    "Time:  69.89976710000337\n",
    "```"
   ]
  },
  {
   "cell_type": "markdown",
   "metadata": {},
   "source": [
    "Nada mau, a profundidade total até bateu o custo uniforme."
   ]
  },
  {
   "cell_type": "markdown",
   "metadata": {},
   "source": [
    "## Cotação\n",
    "Esta pergunta vale 0.6 valores num total de 1.75 da avaliação contínua."
   ]
  }
 ],
 "metadata": {
  "kernelspec": {
   "display_name": "Python 3",
   "language": "python",
   "name": "python3"
  },
  "language_info": {
   "codemirror_mode": {
    "name": "ipython",
    "version": 3
   },
   "file_extension": ".py",
   "mimetype": "text/x-python",
   "name": "python",
   "nbconvert_exporter": "python",
   "pygments_lexer": "ipython3",
   "version": "3.7.3"
  }
 },
 "nbformat": 4,
 "nbformat_minor": 2
}
