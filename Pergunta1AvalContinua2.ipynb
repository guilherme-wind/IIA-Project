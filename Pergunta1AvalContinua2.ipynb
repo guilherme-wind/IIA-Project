{
 "cells": [
  {
   "cell_type": "markdown",
   "metadata": {},
   "source": [
    "# Pergunta 1 - o Medo Total Turbo\n",
    "## Avaliação Contínua II - IIA 23/24\n",
    "\n",
    "<img src=\"Imagens\\6yf_6583184974855120_pt.gif\" alt=\"Drawing\" style=\"width: 250px;\"/>"
   ]
  },
  {
   "cell_type": "markdown",
   "metadata": {},
   "source": [
    "## Introdução\n",
    "O problema do Medo total beneficia muito se formos capazes de antecipar as situações em que não há solução. Temos 3 condições para verificar essas situações. Em todas elas o medo do fantasma é inferior ao medo objectivo:\n",
    "\n",
    "1. Não há mais pastilhas.\n",
    "2. Não há medo suficiente para chegar à pastilha mais próxima de acordo com a distância de Manhatan.\n",
    "3. Há medo suficiente para chegar à pastilha mais próxima mas o medo corrente somado ao poder das pastilhas que faltam é ainda menor do que o tempo necessário até atingir o objectivo.\n",
    "\n",
    "Na condição 2, usamos a distância de Manhatan que pode ser muito enganadora, especialmente num mundo com muitos obstáculos.\n",
    "\n",
    "Por exemplo, quando começamos com o mundo seguinte:\n",
    "```python\n",
    "Tempo: 5\n",
    "Medo: 4\n",
    "= = = = = = \n",
    "= * F @ . = \n",
    "= . . . . = \n",
    "= . = . . = \n",
    "= . = . . = \n",
    "= = = = = =\n",
    "```\n",
    "\n",
    "Ao verificarmos quais as acções possíveis, o Pacman poderá tanto ir para leste como para sul, porque ambas implicam configurações à distância de 3 de manhatan, sendo o medo é também de intensidade 3 e o medo + o poder da pastilha é suficiente para manter o fantasma amedrontado o tempo desejado:\n",
    "\n",
    "\n",
    "```python\n",
    "Tempo: 4\n",
    "Medo: 3\n",
    "= = = = = = \n",
    "= * F . @ = \n",
    "= . . . . = \n",
    "= . = . . = \n",
    "= . = . . = \n",
    "= = = = = =\n",
    "```\n",
    "e\n",
    "```python\n",
    "Tempo: 4\n",
    "Medo: 3\n",
    "= = = = = = \n",
    "= * F . . = \n",
    "= . . @ . = \n",
    "= . = . . = \n",
    "= . = . . = \n",
    "= = = = = =\n",
    "```\n",
    "No entanto, a última delas está à distância real de 5 e não 3, sendo maior que o medo objectivo e correspondendo a uma configuração sem solução.\n",
    "\n",
    "Assim a nossa pergunta é a seguinte? **Será que faz sentido perdermos algum tempo para conhecer as distâncias reais de todas as posições a todas as pastilhas logo no início de modo a podermos usar essa informação na procura de modo eficiente?**"
   ]
  },
  {
   "cell_type": "markdown",
   "metadata": {},
   "source": [
    "## Objectivo\n",
    "Formulem uma variante do problema MedoTotal, cuja classe se chamará `MedoTotalTurbo` e que permita responder à pergunta de cima. No construtor dessa classe terão que criar uma estrutura de dados com todas as distâncias de cada uma das casas navegáveis às pastilhas. Para isso precisarão naturalmente de procurar o caminho mais curto de cada célula navegável da grelha a cada pastilha. Com essa informação, as condições da antecipação da falha que utilizam a distância mais próxima do Pacman às pastilhas, não usarão a distância de Manhatan mas as distâncias reais que levam em linha de conta apenas as casas navegáveis. É preciso então mudar o método `actions` de acordo com o pretendido.\n",
    "\n",
    "<img src=\"Imagens\\FromManhatan.PNG\" alt=\"Drawing\" style=\"width: 450px;\"/>"
   ]
  },
  {
   "cell_type": "markdown",
   "metadata": {},
   "source": [
    "## Exemplo \n",
    "Vejemos mais este pequeno exemplo em que o poder das pastilhas é de 3 instantes."
   ]
  },
  {
   "cell_type": "markdown",
   "metadata": {},
   "source": [
    "```python\n",
    "Tempo = 4\n",
    "Medo = 4\n",
    "= = = = = =\n",
    "= @ F * . =\n",
    "= . = . . =\n",
    "= . . . . =\n",
    "= . = = . =\n",
    "= = = = = =\n",
    "```"
   ]
  },
  {
   "cell_type": "markdown",
   "metadata": {},
   "source": [
    "Se modelizarmos este mundo como `MedoTotal` ao aplicarmos o método `actions` poderemos ir para sul porque o Medo de 3 ainda é suficiente para chegar à pastilha, de acordo com a distância de Manhatan, que ignora os obstáculos."
   ]
  },
  {
   "cell_type": "markdown",
   "metadata": {},
   "source": [
    "Mas se o modelizarmos como `MedoTotalTurbo` o método `actions` devolverá a lista vazia, porque toma em consideração as distâncias reais às pastilhas e não a distância de Manhatan. Se for para sul, ficará à distância de 5 da única pastilha, sendo esse valor maior do que tempo fixado como objectivo, sendo essa acção inviável. Esse método devolve então a lista vazia."
   ]
  },
  {
   "cell_type": "markdown",
   "metadata": {},
   "source": [
    "Em quaisquer dos casos não haverá solução.\n",
    "\n",
    "No caso de termos uma instância de `MedoTotalTurbo`, expandimos apenas o estado inicial e a procura termina sem solução.\n",
    "\n",
    "Em contraste, se a instância do problema for da classe `MedoTotal`, iremos ainda expandir o estado que resulta do movimento para sul. Nessa situação ainda é possível o regresso do Pacman à posição inicial, movendo-se para norte, em que o Medo de 2 é ainda suficiente para chegar à pastilha, segundo a distância de Manhatan.\n",
    "\n",
    "Assim, no último caso teremos uma expansão de 3 estados."
   ]
  },
  {
   "cell_type": "markdown",
   "metadata": {},
   "source": [
    "## Outro exemplo\n",
    "Vejemos este exemplo:\n",
    "```python\n",
    "Tempo: 5\n",
    "Medo: 4\n",
    "= = = = = = \n",
    "= * F @ . = \n",
    "= . . . . = \n",
    "= . = . . = \n",
    "= . = . . = \n",
    "= = = = = =\n",
    "com custo 0\n",
    "```\n",
    "como input de `MedoTotal` e aplicarmos a largura em grafo teremos que expandir os seguintes estados para além do estado inicial que não sendo final terá de ser expandido (respeitando a ordem das acções) :\n",
    "    \n",
    "```python\n",
    "Tempo: 4\n",
    "Medo: 3\n",
    "= = = = = = \n",
    "= * F . @ = \n",
    "= . . . . = \n",
    "= . = . . = \n",
    "= . = . . = \n",
    "= = = = = =\n",
    "resulta da seq. de acções: E\n",
    "custo 1\n",
    "Está à distância de Manhatan de 3 mas a distância real é 5\n",
    "\n",
    "\n",
    "Tempo: 4\n",
    "Medo: 3\n",
    "= = = = = = \n",
    "= * F . . = \n",
    "= . . @ . = \n",
    "= . = . . = \n",
    "= . = . . = \n",
    "= = = = = =\n",
    "resulta da seq. de acções: S\n",
    "custo 1\n",
    "Está à distância de Manhatan de 3 e a distância real é 3\n",
    "\n",
    "\n",
    "Tempo: 3\n",
    "Medo: 2\n",
    "= = = = = = \n",
    "= * F @ . = \n",
    "= . . . . = \n",
    "= . = . . = \n",
    "= . = . . = \n",
    "= = = = = =\n",
    "resulta da seq. de acções: E W\n",
    "custo 3\n",
    "Está à distância de Manhatan de 2 mas a distância real é 4\n",
    "\n",
    "Tempo: 3\n",
    "Medo: 2\n",
    "= = = = = = \n",
    "= * F @ . = \n",
    "= . . . . = \n",
    "= . = . . = \n",
    "= . = . . = \n",
    "= = = = = =\n",
    "resulta da seq. de acções: S N\n",
    "custo 3\n",
    "Está à distância de Manhatan de 2 mas a distância real é 4\n",
    "```\n",
    "Desses estados, nunca seriam visitados os últimos 2 nem o que resulta da acção 'este' a partir do estado inicial, se  usássemos `MedoTotalTurbo` e, sem serem visitados não seriam nunca expandidos.\n",
    "\n",
    "Sendo assim, no final da procura, teríamos 9 visitados e 8 expandidos com `MedoTotal` e 6 visitados e 5 expandidos com `MedoTotalTurbo`. Para este exemplo, a diferença é pouco significativa mas poderá ser decisiva para mundos maiores e mais complexos e em que o tempo objectivo é muito maior, podendo compensar o tempo gasto para calcular todas as distâncias reais a todas as pastilhas antes de executar a procura da solução."
   ]
  },
  {
   "cell_type": "markdown",
   "metadata": {},
   "source": [
    "## Exemplo mais complexo\n",
    "Podemos ver um exemplo com uma grelha maior, maior número de pastilhas e um objectivo mais exigente, em que há de facto uma melhoria no tempo para encontrar a solução.\n",
    "\n",
    "```python\n",
    "parametros=\"T=45\\nM=6\\nP=10\"\n",
    "linha1= \"= = = = = = = = = =\\n\"\n",
    "linha2= \"= @ . * . . * . . =\\n\"\n",
    "linha3= \"= . = = = = = = . =\\n\"\n",
    "linha4= \"= . = F * . . . . =\\n\"\n",
    "linha5= \"= . = = = = = = . =\\n\"\n",
    "linha6= \"= . = . . . . . . =\\n\"\n",
    "linha7= \"= . = . . . . . . =\\n\"\n",
    "linha8= \"= * . . . . . . . =\\n\"\n",
    "linha9= \"= . . . . . . . . =\\n\"\n",
    "linha10=\"= = = = = = = = = =\\n\"\n",
    "grelha=linha1+linha2+linha3+linha4+linha5+linha6+linha7+linha8+linha9+linha10\n",
    "mundoStandardx=parametros + \"\\n\" + grelha\n",
    "```"
   ]
  },
  {
   "cell_type": "markdown",
   "metadata": {},
   "source": [
    "Se usarmos a classe MedoTotal e aplicarmos o custo uniforme,\n",
    "```python\n",
    "gx=MedoTotal(mundoStandardx)\n",
    "\n",
    "start = timeit.default_timer()\n",
    "\n",
    "resultado,expandidos = uniform_cost_search_plus_count(gx)\n",
    "\n",
    "stop = timeit.default_timer()\n",
    "if resultado:\n",
    "    print(\"Solução Custo Uniforme (grafo) com custo\", str(resultado.path_cost)+\":\")\n",
    "    print(resultado.solution())\n",
    "else:\n",
    "    print('Sem Solução')\n",
    "print('Expandidos=',expandidos)\n",
    "print('Time: ', stop - start)\n",
    "```"
   ]
  },
  {
   "cell_type": "markdown",
   "metadata": {},
   "source": [
    "Obteremos o seguinte resultado:"
   ]
  },
  {
   "cell_type": "markdown",
   "metadata": {},
   "source": [
    "```python\n",
    "Solução Custo Uniforme (grafo) com custo 66:\n",
    "['S', 'S', 'S', 'S', 'S', 'S', 'S', 'N', 'N', 'N', 'N', 'N', 'N', 'N', 'E', 'E', 'W', 'E', 'E', 'E', 'W', 'E', 'W', 'E', 'E', 'E', 'E', 'S', 'N', 'S', 'S', 'W', 'W', 'W', 'W', 'E', 'E', 'E', 'E', 'S', 'S', 'W', 'S', 'W', 'S']\n",
    "Expandidos= 56347\n",
    "Time:  11.804849200000035\n",
    "```"
   ]
  },
  {
   "cell_type": "markdown",
   "metadata": {},
   "source": [
    "Se usarmos a classe MedoTotalTurbo e aplicarmos o custo uniforme,\n",
    "```python\n",
    "gx=MedoTotalTurbo(mundoStandardx)\n",
    "\n",
    "start = timeit.default_timer()\n",
    "\n",
    "resultado,expandidos = uniform_cost_search_plus_count(gx)\n",
    "\n",
    "stop = timeit.default_timer()\n",
    "if resultado:\n",
    "    print(\"Solução Custo Uniforme (grafo) com custo\", str(resultado.path_cost)+\":\")\n",
    "    print(resultado.solution())\n",
    "else:\n",
    "    print('Sem Solução')\n",
    "print('Expandidos=',expandidos)\n",
    "print('Time: ', stop - start)\n",
    "``` "
   ]
  },
  {
   "cell_type": "markdown",
   "metadata": {},
   "source": [
    "Obteremos o mesmo resultado em menos tempo, expandindo metade dos estados:\n",
    "``` python\n",
    "Solução Custo Uniforme (grafo) com custo 66:\n",
    "['S', 'S', 'S', 'S', 'S', 'S', 'S', 'N', 'N', 'N', 'N', 'N', 'N', 'N', 'E', 'E', 'W', 'E', 'E', 'E', 'W', 'E', 'W', 'E', 'E', 'E', 'E', 'S', 'N', 'S', 'S', 'W', 'W', 'W', 'W', 'E', 'E', 'E', 'E', 'S', 'S', 'W', 'S', 'W', 'S']\n",
    "Expandidos= 27171\n",
    "Time:  3.668982200000073\n",
    "```"
   ]
  },
  {
   "cell_type": "markdown",
   "metadata": {},
   "source": [
    "## Cotação\n",
    "Esta pergunta vale 0.55 valores num total de 1.75 da avaliação contínua."
   ]
  }
 ],
 "metadata": {
  "kernelspec": {
   "display_name": "Python 3",
   "language": "python",
   "name": "python3"
  },
  "language_info": {
   "codemirror_mode": {
    "name": "ipython",
    "version": 3
   },
   "file_extension": ".py",
   "mimetype": "text/x-python",
   "name": "python",
   "nbconvert_exporter": "python",
   "pygments_lexer": "ipython3",
   "version": "3.7.3"
  }
 },
 "nbformat": 4,
 "nbformat_minor": 2
}
