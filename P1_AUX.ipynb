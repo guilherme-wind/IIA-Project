{
 "cells": [
  {
   "cell_type": "code",
   "execution_count": 72,
   "id": "f821aad6",
   "metadata": {},
   "outputs": [],
   "source": [
    "\n",
    "from collections import namedtuple\n",
    "from searchPlus import *\n",
    "import timeit    # Para tirar\n",
    "\n",
    "\n",
    "EstadoMedo = namedtuple('EstadoMedo', 'pacman, pastilhas, tempo, medo, visitadas')\n",
    "\n",
    "\n",
    "class EstadoMedoTotal(EstadoMedo):\n",
    "    \"\"\" A classe para representar a informação que muda com as acções.\n",
    "    um estado é sempre considerado menor do que qualquer outro. \"\"\"\n",
    "    def __lt__(self,x):\n",
    "        return True\n",
    "    \n",
    "    def __eq__(self,outro):\n",
    "        return self.pacman==outro.pacman and self.pastilhas == outro.pastilhas and \\\n",
    "                self.visitadas == outro.visitadas and self.medo == outro.medo and self.tempo == outro.tempo\n",
    "    \n",
    "    def __hash__(self):\n",
    "        return hash(str(self.pacman)+str(self.pastilhas)+str(self.tempo)+str(self.medo)+str(self.visitadas))\n",
    "\n",
    "\n",
    "parametros=\"T=26\\nM=6\\nP=10\"\n",
    "linha1= \"= = = = = = = = = =\\n\"\n",
    "linha2= \"= @ . * . . * . . =\\n\"\n",
    "linha3= \"= . = = = = = = . =\\n\"\n",
    "linha4= \"= . = F . . . . . =\\n\"\n",
    "linha5= \"= . = . . . . . . =\\n\"\n",
    "linha6= \"= . = . . . . . . =\\n\"\n",
    "linha7= \"= . = . . . . . . =\\n\"\n",
    "linha8= \"= * . . . . . . . =\\n\"\n",
    "linha9= \"= . . . . . . . . =\\n\"\n",
    "linha10=\"= = = = = = = = = =\\n\"\n",
    "grelha=linha1+linha2+linha3+linha4+linha5+linha6+linha7+linha8+linha9+linha10\n",
    "mundoStandard=parametros + \"\\n\" + grelha\n",
    "\n",
    "# Distância de Manhatan entre 2 pontos\n",
    "#\n",
    "def manhatan(p,q):\n",
    "    (x1,y1) = p\n",
    "    (x2,y2) = q\n",
    "    return abs(x1-x2) + abs(y1-y2)\n",
    "\n",
    "\n",
    "# A subclasse de Problem: MedoTotal\n",
    "#\n",
    "class MedoTotalTurbo(Problem):\n",
    "    \"\"\"Encontrar um caminho numa grelha 2D com obstáculos. Os obstáculos são células (x, y).\"\"\"\n",
    "\n",
    "    def conv_txt_estado(self,txt):\n",
    "    \n",
    "        def processa_linha(dados,y,linha):\n",
    "            x=0\n",
    "            for c in linha:\n",
    "                if c=='*':\n",
    "                    dados['pastilhas'].add((x,y))\n",
    "                elif c=='=':\n",
    "                    dados['obstaculos'].add((x,y))\n",
    "                elif c=='@':\n",
    "                    dados['pacman']=(x,y)\n",
    "                elif c=='F':\n",
    "                    dados['fantasma']=(x,y)\n",
    "                if c!= \" \":\n",
    "                    x+=1\n",
    "        \n",
    "        linhas=txt.split('\\n')\n",
    "        T=int(linhas[0][2:])\n",
    "        M=int(linhas[1][2:])\n",
    "        P=int(linhas[2][2:])\n",
    "        dim=(len(linhas[3])+1)//2\n",
    "        \n",
    "        dados={'dim':dim, 'T':T, 'M':M, 'P':P, 'obstaculos':set(), 'pastilhas':set()}\n",
    "        y=0\n",
    "        for l in linhas[3:]:\n",
    "            processa_linha(dados,y,l)\n",
    "            y+=1\n",
    "        return dados\n",
    "    \n",
    "        \n",
    "    def __init__(self, texto_input=mundoStandard):\n",
    "        diccio=self.conv_txt_estado(texto_input)\n",
    "        self.initial=EstadoMedoTotal(diccio['pacman'], diccio['pastilhas'], diccio['T'], diccio['M'],{diccio['pacman']:1})\n",
    "        self.goal=diccio['T'] \n",
    "        self.fantasma = diccio['fantasma']\n",
    "        self.poder = diccio['P']\n",
    "        self.obstacles=diccio['obstaculos']\n",
    "        self.dim=diccio['dim']\n",
    "        self.distances = self.realDistances(texto_input)\n",
    "\n",
    "    directions = {\"N\":(0, -1), \"W\":(-1, 0), \"E\":(1,  0),\"S\":(0, +1)}  # ortogonais\n",
    "    \n",
    "    def realDistances(self, text_input): \n",
    "        \n",
    "        lines = text_input.split('\\n')\n",
    "        matrizAux = lines[3:]\n",
    "        # Remover espaços em branco de cada linha\n",
    "        mapa = [x.replace(\" \", \"\") for x in matrizAux]\n",
    "        \n",
    "        auxDicio = {}\n",
    "        for p in self.initial.pastilhas:\n",
    "            auxDicio[p] = {}\n",
    "            for i in range(len(mapa)):\n",
    "                for j in range(len(mapa[i])):\n",
    "                    if (mapa[i][j] == '.' or mapa[i][j] == '*'):\n",
    "                        auxDicio[p][(j,i)] = manhatan(p,(j,i))\n",
    "        return auxDicio\n",
    "        \n",
    "                  \n",
    "    def result(self, state, action): \n",
    "        \"Tanto as acções como os estados são representados por pares (x,y).\"\n",
    "        pacman,pastilhas,tempo,medo,visitadas=state\n",
    "        (x,y) = pacman\n",
    "        (dx,dy) = self.directions[action]\n",
    "        npos = (x+dx,y+dy)\n",
    "        if npos == self.fantasma:\n",
    "            medo=0\n",
    "        elif npos in pastilhas:\n",
    "            pastilhas = pastilhas - {npos}\n",
    "            medo = self.poder\n",
    "        else:\n",
    "            medo -= 1\n",
    "        tempo -=1\n",
    "        copia_visitadas = visitadas.copy()\n",
    "        freq=copia_visitadas.get(npos,0)\n",
    "        copia_visitadas[npos]=freq+1\n",
    "        return(EstadoMedoTotal(npos, pastilhas, tempo, medo, copia_visitadas))\n",
    "    \n",
    "    \n",
    "\n",
    "    # situações de falha antecipada\n",
    "    #\n",
    "    def falha_antecipada(self,state):\n",
    "        if state.tempo <= state.medo:\n",
    "            return False\n",
    "        if state.pastilhas == set(): # se não há mais pastilhas e eram necessárias\n",
    "            return True\n",
    "        minDist = min(list(map(lambda x: manhatan(state.pacman,x),state.pastilhas)))\n",
    "        if minDist > state.medo: # se não há tempo (manhatan) para chegar à próxima super-pastilha\n",
    "            return True\n",
    "        if (state.medo + self.poder * len(state.pastilhas)) < state.tempo:\n",
    "            # se o poder de todas as pastilhas mais o medo são insuficientes.\n",
    "            return True\n",
    "        return False\n",
    "    \n",
    "    def actions(self, state):\n",
    "        \"\"\"Podes mover-te para uma célula em qualquer das direcções para uma casa \n",
    "           que não seja obstáculo nem fantasma.\"\"\"\n",
    "        x, y = state.pacman\n",
    "        return [act for act in self.directions.keys() \n",
    "                if (x+self.directions[act][0],y+self.directions[act][1]) not in (self.obstacles | {self.fantasma}) and \n",
    "                not self.falha_antecipada(self.result(state,act))]\n",
    "\n",
    "    \n",
    "    def path_cost(self,c,state,action,new):\n",
    "        return c + new.visitadas[new.pacman]\n",
    "    \n",
    "    def goal_test(self,state):\n",
    "        return state.tempo==0\n",
    "\n",
    "    def display(self, state):\n",
    "        \"\"\" print the state please\"\"\"\n",
    "        output=\"Tempo: \"+ str(state.tempo) + \"\\n\"\n",
    "        output+=\"Medo: \"+ str(state.medo)  + \"\\n\"\n",
    "        for j in range(self.dim):\n",
    "            for i in range(self.dim):\n",
    "                if state.pacman ==(i,j):\n",
    "                    ch = '@'\n",
    "                elif self.fantasma==(i,j):\n",
    "                    ch = \"F\"\n",
    "                elif (i,j) in self.obstacles:\n",
    "                    ch = \"=\"\n",
    "                elif (i,j) in state.pastilhas:\n",
    "                    ch = '*'\n",
    "                else:\n",
    "                    ch = \".\"\n",
    "                output += ch + \" \"\n",
    "            output += \"\\n\"\n",
    "        return output  \n",
    "\n",
    "    def executa(p,estado,accoes,verbose=False):\n",
    "        \"\"\"Executa uma sequência de acções a partir do estado devolvendo o triplo formado pelo estado, \n",
    "        pelo custo acumulado e pelo booleano que indica se o objectivo foi ou não atingido. Se o objectivo for atingido\n",
    "        antes da sequência ser atingida, devolve-se o estado e o custo corrente.\n",
    "        Há o modo verboso e o não verboso, por defeito.\"\"\"\n",
    "        custo = 0\n",
    "        for a in accoes:\n",
    "            seg = p.result(estado,a)\n",
    "            custo = p.path_cost(custo,estado,a,seg)\n",
    "            estado = seg\n",
    "            objectivo=p.goal_test(estado)\n",
    "            if verbose:\n",
    "                p.display(estado)\n",
    "                print('Custo Total:',custo)\n",
    "                print('Atingido o objectivo?', objectivo)\n",
    "            if objectivo:\n",
    "                break\n",
    "        return (estado,custo,objectivo)\n",
    "    \n",
    "    def minimal_h(self,node):\n",
    "        return node.state.tempo"
   ]
  },
  {
   "cell_type": "code",
   "execution_count": 73,
   "id": "d0f36b3b",
   "metadata": {},
   "outputs": [
    {
     "name": "stdout",
     "output_type": "stream",
     "text": [
      "[]\n"
     ]
    }
   ],
   "source": [
    "# Teste 1\n",
    "parametros=\"T=4\\nM=2\\nP=10\"\n",
    "linha1= \"= = = = = =\\n\"\n",
    "linha2= \"= @ F * . =\\n\"\n",
    "linha3= \"= . = . . =\\n\"\n",
    "linha4= \"= . . . . =\\n\"\n",
    "linha5= \"= . = = . =\\n\"\n",
    "linha6= \"= = = = = =\\n\"\n",
    "grelha=linha1+linha2+linha3+linha4+linha5+linha6\n",
    "mundoStandardx=parametros + \"\\n\" + grelha\n",
    "gx=MedoTotalTurbo(mundoStandardx)\n",
    "print(gx.actions(gx.initial))"
   ]
  },
  {
   "cell_type": "code",
   "execution_count": 74,
   "id": "97890dfe",
   "metadata": {},
   "outputs": [
    {
     "name": "stdout",
     "output_type": "stream",
     "text": [
      "{(3, 1): {(3, 1): 0, (4, 1): 1, (1, 2): 3, (3, 2): 1, (4, 2): 2, (1, 3): 4, (2, 3): 3, (3, 3): 2, (4, 3): 3, (1, 4): 5, (4, 4): 4}}\n"
     ]
    }
   ],
   "source": [
    "print(gx.distances)"
   ]
  },
  {
   "cell_type": "code",
   "execution_count": 42,
   "id": "8c2a4371",
   "metadata": {},
   "outputs": [
    {
     "name": "stdout",
     "output_type": "stream",
     "text": [
      "{}\n",
      "{(3, 1): {}}\n",
      "{(3, 1): {2: 2}}\n"
     ]
    }
   ],
   "source": [
    "aux = {}\n",
    "print(aux)\n",
    "aux = {(3,1):{}}\n",
    "print(aux)\n",
    "aux[(3,1)][2] = 2\n",
    "print(aux)"
   ]
  },
  {
   "cell_type": "code",
   "execution_count": 80,
   "id": "40cc7137",
   "metadata": {},
   "outputs": [
    {
     "name": "stdout",
     "output_type": "stream",
     "text": [
      "{(2, 1): 7, (3, 1): 8, (4, 1): 9, (5, 1): 10, (6, 1): 11, (7, 1): 12, (8, 1): 13, (1, 2): 5, (8, 2): 12, (1, 3): 4, (4, 3): 7, (5, 3): 8, (6, 3): 9, (7, 3): 10, (8, 3): 11, (1, 4): 3, (3, 4): 5, (4, 4): 6, (5, 4): 7, (6, 4): 8, (7, 4): 9, (8, 4): 10, (1, 5): 2, (3, 5): 4, (4, 5): 5, (5, 5): 6, (6, 5): 7, (7, 5): 8, (8, 5): 9, (1, 6): 1, (3, 6): 3, (4, 6): 4, (5, 6): 5, (6, 6): 6, (7, 6): 7, (8, 6): 8, (1, 7): 0, (2, 7): 1, (3, 7): 2, (4, 7): 3, (5, 7): 4, (6, 7): 5, (7, 7): 6, (8, 7): 7, (1, 8): 1, (2, 8): 2, (3, 8): 3, (4, 8): 4, (5, 8): 5, (6, 8): 6, (7, 8): 7, (8, 8): 8}\n"
     ]
    }
   ],
   "source": [
    "gx=MedoTotalTurbo()\n",
    "print(gx.distances[(1,7)])"
   ]
  },
  {
   "cell_type": "code",
   "execution_count": 67,
   "id": "82dd9b62",
   "metadata": {},
   "outputs": [
    {
     "name": "stdout",
     "output_type": "stream",
     "text": [
      "{(3, 1), (6, 1), (1, 7)}\n",
      "\n",
      "['__class__', '__class_getitem__', '__contains__', '__delattr__', '__delitem__', '__dir__', '__doc__', '__eq__', '__format__', '__ge__', '__getattribute__', '__getitem__', '__getstate__', '__gt__', '__hash__', '__init__', '__init_subclass__', '__ior__', '__iter__', '__le__', '__len__', '__lt__', '__ne__', '__new__', '__or__', '__reduce__', '__reduce_ex__', '__repr__', '__reversed__', '__ror__', '__setattr__', '__setitem__', '__sizeof__', '__str__', '__subclasshook__', 'clear', 'copy', 'fromkeys', 'get', 'items', 'keys', 'pop', 'popitem', 'setdefault', 'update', 'values']\n"
     ]
    }
   ],
   "source": [
    "print(gx.initial.pastilhas)\n",
    "print(\"\")\n",
    "print(dir(gx.distances))"
   ]
  },
  {
   "cell_type": "code",
   "execution_count": 71,
   "id": "8b51480d",
   "metadata": {},
   "outputs": [
    {
     "data": {
      "text/plain": [
       "{(3, 1): {(7, 5): 69, (3, 3): 37}, (6, 1): {}, (1, 7): {}}"
      ]
     },
     "execution_count": 71,
     "metadata": {},
     "output_type": "execute_result"
    }
   ],
   "source": [
    "a1 = (3,1)\n",
    "a2 = (6,1)\n",
    "a3 = (1,7)\n",
    "aux = {}\n",
    "aux[a1] = {}\n",
    "aux[a2] = {}\n",
    "aux[a3] = {}\n",
    "aux[a1][(7,5)] = 69\n",
    "aux[a1][(3,3)] = 37\n",
    "aux"
   ]
  },
  {
   "cell_type": "code",
   "execution_count": null,
   "id": "b6d5aa65",
   "metadata": {},
   "outputs": [],
   "source": []
  }
 ],
 "metadata": {
  "kernelspec": {
   "display_name": "Python 3 (ipykernel)",
   "language": "python",
   "name": "python3"
  },
  "language_info": {
   "codemirror_mode": {
    "name": "ipython",
    "version": 3
   },
   "file_extension": ".py",
   "mimetype": "text/x-python",
   "name": "python",
   "nbconvert_exporter": "python",
   "pygments_lexer": "ipython3",
   "version": "3.11.4"
  }
 },
 "nbformat": 4,
 "nbformat_minor": 5
}
