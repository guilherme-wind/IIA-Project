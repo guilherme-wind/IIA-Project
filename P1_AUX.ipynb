{
 "cells": [
  {
   "cell_type": "code",
   "execution_count": 122,
   "id": "b0987737",
   "metadata": {},
   "outputs": [],
   "source": [
    "from collections import namedtuple\n",
    "from searchPlus import *\n",
    "import timeit    # Para tirar\n",
    "\n",
    "\n",
    "EstadoMedo = namedtuple('EstadoMedo', 'pacman, pastilhas, tempo, medo, visitadas')\n",
    "\n",
    "\n",
    "class EstadoMedoTotal(EstadoMedo):\n",
    "    \"\"\" A classe para representar a informação que muda com as acções.\n",
    "    um estado é sempre considerado menor do que qualquer outro. \"\"\"\n",
    "    def __lt__(self,x):\n",
    "        return True\n",
    "    \n",
    "    def __eq__(self,outro):\n",
    "        return self.pacman==outro.pacman and self.pastilhas == outro.pastilhas and \\\n",
    "                self.visitadas == outro.visitadas and self.medo == outro.medo and self.tempo == outro.tempo\n",
    "    \n",
    "    def __hash__(self):\n",
    "        return hash(str(self.pacman)+str(self.pastilhas)+str(self.tempo)+str(self.medo)+str(self.visitadas))\n",
    "\n",
    "\n",
    "parametros=\"T=26\\nM=6\\nP=10\"\n",
    "linha1= \"= = = = = = = = = =\\n\"\n",
    "linha2= \"= @ . * . . * . . =\\n\"\n",
    "linha3= \"= . = = = = = = . =\\n\"\n",
    "linha4= \"= . = F . . . . . =\\n\"\n",
    "linha5= \"= . = . . . . . . =\\n\"\n",
    "linha6= \"= . = . . . . . . =\\n\"\n",
    "linha7= \"= . = . . . . . . =\\n\"\n",
    "linha8= \"= * . . . . . . . =\\n\"\n",
    "linha9= \"= . . . . . . . . =\\n\"\n",
    "linha10=\"= = = = = = = = = =\\n\"\n",
    "grelha=linha1+linha2+linha3+linha4+linha5+linha6+linha7+linha8+linha9+linha10\n",
    "mundoStandard=parametros + \"\\n\" + grelha\n",
    "\n",
    "class DistancePoints(Problem):\n",
    "        directions = {\"N\":(0, -1), \"W\":(-1, 0), \"E\":(1,  0),\"S\":(0, +1)}  # ortogonais\n",
    "\n",
    "        def __init__(self, p1, p2, obstacles, fantasma):\n",
    "            self.initial = p1\n",
    "            self.goal = p2\n",
    "            self.obstacles = obstacles\n",
    "            self.fantasma = fantasma\n",
    "\n",
    "        def actions(self, state):\n",
    "            x, y = state.pacman\n",
    "            return [act for act in self.directions.keys() \n",
    "                if (x+self.directions[act][0],y+self.directions[act][1]) not in (self.obstacles | {self.fantasma})]\n",
    "\n",
    "        def result(self, state, action):\n",
    "            raise action\n",
    "\n",
    "        def goal_test(self, state):\n",
    "            if isinstance(self.goal, list):\n",
    "                return state in self.goal\n",
    "            else:\n",
    "                return state == self.goal\n",
    "\n",
    "        def h(self, state):\n",
    "            return abs(state[0] - self.goal[0]) + abs(state[1] - self.goal[1])\n",
    "\n",
    "\n",
    "\n",
    "\n",
    "\n",
    "# A subclasse de Problem: MedoTotal\n",
    "#\n",
    "class MedoTotalTurbo(Problem):\n",
    "    \"\"\"Encontrar um caminho numa grelha 2D com obstáculos. Os obstáculos são células (x, y).\"\"\"\n",
    "\n",
    "    def distancia_entre_pontos(self, p1, p2, obstacles, fantasma):\n",
    "        distancia = DistancePoints(p1, p2, obstacles, fantasma)\n",
    "\n",
    "        # Call the astar_search() function to get the shortest path between the two points.\n",
    "        path = astar_search(distancia)\n",
    "\n",
    "        # The cost of the path is the distance between the two points.\n",
    "        return path[-1]\n",
    "    \n",
    "    def conv_txt_estado(self,txt):\n",
    "    \n",
    "        def processa_linha(dados,y,linha):\n",
    "            x=0\n",
    "            for c in linha:\n",
    "                if c=='*':\n",
    "                    dados['pastilhas'].add((x,y))\n",
    "                elif c=='=':\n",
    "                    dados['obstaculos'].add((x,y))\n",
    "                elif c=='@':\n",
    "                    dados['pacman']=(x,y)\n",
    "                elif c=='F':\n",
    "                    dados['fantasma']=(x,y)\n",
    "                if c!= \" \":\n",
    "                    x+=1\n",
    "        \n",
    "        linhas=txt.split('\\n')\n",
    "        T=int(linhas[0][2:])\n",
    "        M=int(linhas[1][2:])\n",
    "        P=int(linhas[2][2:])\n",
    "        dim=(len(linhas[3])+1)//2\n",
    "        \n",
    "        dados={'dim':dim, 'T':T, 'M':M, 'P':P, 'obstaculos':set(), 'pastilhas':set()}\n",
    "        y=0\n",
    "        for l in linhas[3:]:\n",
    "            processa_linha(dados,y,l)\n",
    "            y+=1\n",
    "        return dados\n",
    "    \n",
    "        \n",
    "    def __init__(self, texto_input=mundoStandard):\n",
    "        diccio=self.conv_txt_estado(texto_input)\n",
    "        self.initial=EstadoMedoTotal(diccio['pacman'], diccio['pastilhas'], diccio['T'], diccio['M'],{diccio['pacman']:1})\n",
    "        self.goal=diccio['T'] \n",
    "        self.fantasma = diccio['fantasma']\n",
    "        self.poder = diccio['P']\n",
    "        self.obstacles=diccio['obstaculos']\n",
    "        self.dim=diccio['dim']\n",
    "        \n",
    "        lines = texto_input.split('\\n')\n",
    "        matrizAux = lines[3:]\n",
    "        # Remover espaços em branco de cada linha\n",
    "        mapa = [x.replace(\" \", \"\") for x in matrizAux]\n",
    "        self.tabuleiro = mapa\n",
    "        self.distances = self.realDistances()\n",
    "        \n",
    "\n",
    "    directions = {\"N\":(0, -1), \"W\":(-1, 0), \"E\":(1,  0),\"S\":(0, +1)}  # ortogonais\n",
    "    \n",
    "    def realDistances(self): \n",
    "        mapa = self.tabuleiro\n",
    "        auxDicio = {}\n",
    "        for p in self.initial.pastilhas:\n",
    "            auxDicio[p] = {}\n",
    "            for i in range(len(mapa)):\n",
    "                for j in range(len(mapa[i])):\n",
    "                    if (mapa[i][j] == '.' or mapa[i][j] == '*'):\n",
    "                        auxDicio[p][(j,i)] = self.distancia_entre_pontos(p, (j,i) , self.obstacles, self.fantasma)\n",
    "        return auxDicio\n",
    "        \n",
    "                  \n",
    "    def result(self, state, action): \n",
    "        \"Tanto as acções como os estados são representados por pares (x,y).\"\n",
    "        pacman,pastilhas,tempo,medo,visitadas=state\n",
    "        (x,y) = pacman\n",
    "        (dx,dy) = self.directions[action]\n",
    "        npos = (x+dx,y+dy)\n",
    "        if npos == self.fantasma:\n",
    "            medo=0\n",
    "        elif npos in pastilhas:\n",
    "            pastilhas = pastilhas - {npos}\n",
    "            medo = self.poder\n",
    "        else:\n",
    "            medo -= 1\n",
    "        tempo -=1\n",
    "        copia_visitadas = visitadas.copy()\n",
    "        freq=copia_visitadas.get(npos,0)\n",
    "        copia_visitadas[npos]=freq+1\n",
    "        return(EstadoMedoTotal(npos, pastilhas, tempo, medo, copia_visitadas))\n",
    "    \n",
    "    \n",
    "\n",
    "    # situações de falha antecipada\n",
    "    #\n",
    "    def falha_antecipada(self,state):\n",
    "        if state.tempo <= state.medo:\n",
    "            return False\n",
    "        if state.pastilhas == set(): # se não há mais pastilhas e eram necessárias\n",
    "            return True\n",
    "        minDist = min(list(map(lambda x: distancia_entre_pontos(self.tabuleiro, state.pacman,x),state.pastilhas)))\n",
    "        if minDist > state.medo: # se não há tempo (manhatan) para chegar à próxima super-pastilha\n",
    "            return True\n",
    "        if (state.medo + self.poder * len(state.pastilhas)) < state.tempo:\n",
    "            # se o poder de todas as pastilhas mais o medo são insuficientes.\n",
    "            return True\n",
    "        return False\n",
    "    \n",
    "    def actions(self, state):\n",
    "        \"\"\"Podes mover-te para uma célula em qualquer das direcções para uma casa \n",
    "           que não seja obstáculo nem fantasma.\"\"\"\n",
    "        x, y = state.pacman\n",
    "        return [act for act in self.directions.keys() \n",
    "                if (x+self.directions[act][0],y+self.directions[act][1]) not in (self.obstacles | {self.fantasma}) and \n",
    "                not self.falha_antecipada(self.result(state,act))]\n",
    "\n",
    "    \n",
    "    def path_cost(self,c,state,action,new):\n",
    "        return c + new.visitadas[new.pacman]\n",
    "    \n",
    "    def goal_test(self,state):\n",
    "        return state.tempo==0\n",
    "\n",
    "    def display(self, state):\n",
    "        \"\"\" print the state please\"\"\"\n",
    "        output=\"Tempo: \"+ str(state.tempo) + \"\\n\"\n",
    "        output+=\"Medo: \"+ str(state.medo)  + \"\\n\"\n",
    "        for j in range(self.dim):\n",
    "            for i in range(self.dim):\n",
    "                if state.pacman ==(i,j):\n",
    "                    ch = '@'\n",
    "                elif self.fantasma==(i,j):\n",
    "                    ch = \"F\"\n",
    "                elif (i,j) in self.obstacles:\n",
    "                    ch = \"=\"\n",
    "                elif (i,j) in state.pastilhas:\n",
    "                    ch = '*'\n",
    "                else:\n",
    "                    ch = \".\"\n",
    "                output += ch + \" \"\n",
    "            output += \"\\n\"\n",
    "        return output  \n",
    "\n",
    "    def executa(p,estado,accoes,verbose=False):\n",
    "        \"\"\"Executa uma sequência de acções a partir do estado devolvendo o triplo formado pelo estado, \n",
    "        pelo custo acumulado e pelo booleano que indica se o objectivo foi ou não atingido. Se o objectivo for atingido\n",
    "        antes da sequência ser atingida, devolve-se o estado e o custo corrente.\n",
    "        Há o modo verboso e o não verboso, por defeito.\"\"\"\n",
    "        custo = 0\n",
    "        for a in accoes:\n",
    "            seg = p.result(estado,a)\n",
    "            custo = p.path_cost(custo,estado,a,seg)\n",
    "            estado = seg\n",
    "            objectivo=p.goal_test(estado)\n",
    "            if verbose:\n",
    "                p.display(estado)\n",
    "                print('Custo Total:',custo)\n",
    "                print('Atingido o objectivo?', objectivo)\n",
    "            if objectivo:\n",
    "                break\n",
    "        return (estado,custo,objectivo)\n",
    "    \n",
    "    def minimal_h(self,node):\n",
    "        return node.state.tempo"
   ]
  },
  {
   "cell_type": "code",
   "execution_count": 123,
   "id": "f7493915",
   "metadata": {},
   "outputs": [
    {
     "ename": "TypeError",
     "evalue": "'Node' object is not subscriptable",
     "output_type": "error",
     "traceback": [
      "\u001b[1;31m---------------------------------------------------------------------------\u001b[0m",
      "\u001b[1;31mTypeError\u001b[0m                                 Traceback (most recent call last)",
      "Cell \u001b[1;32mIn[123], line 11\u001b[0m\n\u001b[0;32m      9\u001b[0m grelha\u001b[38;5;241m=\u001b[39mlinha1\u001b[38;5;241m+\u001b[39mlinha2\u001b[38;5;241m+\u001b[39mlinha3\u001b[38;5;241m+\u001b[39mlinha4\u001b[38;5;241m+\u001b[39mlinha5\u001b[38;5;241m+\u001b[39mlinha6\n\u001b[0;32m     10\u001b[0m mundoStandardx\u001b[38;5;241m=\u001b[39mparametros \u001b[38;5;241m+\u001b[39m \u001b[38;5;124m\"\u001b[39m\u001b[38;5;130;01m\\n\u001b[39;00m\u001b[38;5;124m\"\u001b[39m \u001b[38;5;241m+\u001b[39m grelha\n\u001b[1;32m---> 11\u001b[0m gx\u001b[38;5;241m=\u001b[39mMedoTotalTurbo(mundoStandardx)\n\u001b[0;32m     12\u001b[0m \u001b[38;5;28mprint\u001b[39m(gx\u001b[38;5;241m.\u001b[39mactions(gx\u001b[38;5;241m.\u001b[39minitial))\n",
      "Cell \u001b[1;32mIn[122], line 126\u001b[0m, in \u001b[0;36mMedoTotalTurbo.__init__\u001b[1;34m(self, texto_input)\u001b[0m\n\u001b[0;32m    124\u001b[0m mapa \u001b[38;5;241m=\u001b[39m [x\u001b[38;5;241m.\u001b[39mreplace(\u001b[38;5;124m\"\u001b[39m\u001b[38;5;124m \u001b[39m\u001b[38;5;124m\"\u001b[39m, \u001b[38;5;124m\"\u001b[39m\u001b[38;5;124m\"\u001b[39m) \u001b[38;5;28;01mfor\u001b[39;00m x \u001b[38;5;129;01min\u001b[39;00m matrizAux]\n\u001b[0;32m    125\u001b[0m \u001b[38;5;28mself\u001b[39m\u001b[38;5;241m.\u001b[39mtabuleiro \u001b[38;5;241m=\u001b[39m mapa\n\u001b[1;32m--> 126\u001b[0m \u001b[38;5;28mself\u001b[39m\u001b[38;5;241m.\u001b[39mdistances \u001b[38;5;241m=\u001b[39m \u001b[38;5;28mself\u001b[39m\u001b[38;5;241m.\u001b[39mrealDistances()\n",
      "Cell \u001b[1;32mIn[122], line 139\u001b[0m, in \u001b[0;36mMedoTotalTurbo.realDistances\u001b[1;34m(self)\u001b[0m\n\u001b[0;32m    137\u001b[0m         \u001b[38;5;28;01mfor\u001b[39;00m j \u001b[38;5;129;01min\u001b[39;00m \u001b[38;5;28mrange\u001b[39m(\u001b[38;5;28mlen\u001b[39m(mapa[i])):\n\u001b[0;32m    138\u001b[0m             \u001b[38;5;28;01mif\u001b[39;00m (mapa[i][j] \u001b[38;5;241m==\u001b[39m \u001b[38;5;124m'\u001b[39m\u001b[38;5;124m.\u001b[39m\u001b[38;5;124m'\u001b[39m \u001b[38;5;129;01mor\u001b[39;00m mapa[i][j] \u001b[38;5;241m==\u001b[39m \u001b[38;5;124m'\u001b[39m\u001b[38;5;124m*\u001b[39m\u001b[38;5;124m'\u001b[39m):\n\u001b[1;32m--> 139\u001b[0m                 auxDicio[p][(j,i)] \u001b[38;5;241m=\u001b[39m \u001b[38;5;28mself\u001b[39m\u001b[38;5;241m.\u001b[39mdistancia_entre_pontos(p, (j,i) , \u001b[38;5;28mself\u001b[39m\u001b[38;5;241m.\u001b[39mobstacles, \u001b[38;5;28mself\u001b[39m\u001b[38;5;241m.\u001b[39mfantasma)\n\u001b[0;32m    140\u001b[0m \u001b[38;5;28;01mreturn\u001b[39;00m auxDicio\n",
      "Cell \u001b[1;32mIn[122], line 80\u001b[0m, in \u001b[0;36mMedoTotalTurbo.distancia_entre_pontos\u001b[1;34m(self, p1, p2, obstacles, fantasma)\u001b[0m\n\u001b[0;32m     77\u001b[0m path \u001b[38;5;241m=\u001b[39m astar_search(distancia)\n\u001b[0;32m     79\u001b[0m \u001b[38;5;66;03m# The cost of the path is the distance between the two points.\u001b[39;00m\n\u001b[1;32m---> 80\u001b[0m \u001b[38;5;28;01mreturn\u001b[39;00m path[\u001b[38;5;241m-\u001b[39m\u001b[38;5;241m1\u001b[39m]\n",
      "\u001b[1;31mTypeError\u001b[0m: 'Node' object is not subscriptable"
     ]
    }
   ],
   "source": [
    "# Teste 1\n",
    "parametros=\"T=4\\nM=2\\nP=10\"\n",
    "linha1= \"= = = = = =\\n\"\n",
    "linha2= \"= @ F * . =\\n\"\n",
    "linha3= \"= . = . . =\\n\"\n",
    "linha4= \"= . . . . =\\n\"\n",
    "linha5= \"= . = = . =\\n\"\n",
    "linha6= \"= = = = = =\\n\"\n",
    "grelha=linha1+linha2+linha3+linha4+linha5+linha6\n",
    "mundoStandardx=parametros + \"\\n\" + grelha\n",
    "gx=MedoTotalTurbo(mundoStandardx)\n",
    "print(gx.actions(gx.initial))"
   ]
  },
  {
   "cell_type": "code",
   "execution_count": 119,
   "id": "c962d124",
   "metadata": {},
   "outputs": [
    {
     "name": "stdout",
     "output_type": "stream",
     "text": [
      "{(3, 1): {(3, 1): inf, (4, 1): inf, (1, 2): inf, (3, 2): inf, (4, 2): inf, (1, 3): inf, (2, 3): inf, (3, 3): inf, (4, 3): inf, (1, 4): inf, (4, 4): inf}}\n"
     ]
    }
   ],
   "source": [
    "print(gx.distances)"
   ]
  },
  {
   "cell_type": "code",
   "execution_count": 106,
   "id": "e72493c3",
   "metadata": {},
   "outputs": [
    {
     "name": "stdout",
     "output_type": "stream",
     "text": [
      "{}\n",
      "{(3, 1): {}}\n",
      "{(3, 1): {2: 2}}\n"
     ]
    }
   ],
   "source": [
    "aux = {}\n",
    "print(aux)\n",
    "aux = {(3,1):{}}\n",
    "print(aux)\n",
    "aux[(3,1)][2] = 2\n",
    "print(aux)"
   ]
  },
  {
   "cell_type": "code",
   "execution_count": 107,
   "id": "16082134",
   "metadata": {},
   "outputs": [
    {
     "ename": "TypeError",
     "evalue": "list indices must be integers or slices, not tuple",
     "output_type": "error",
     "traceback": [
      "\u001b[1;31m---------------------------------------------------------------------------\u001b[0m",
      "\u001b[1;31mTypeError\u001b[0m                                 Traceback (most recent call last)",
      "Cell \u001b[1;32mIn[107], line 1\u001b[0m\n\u001b[1;32m----> 1\u001b[0m gx\u001b[38;5;241m=\u001b[39mMedoTotalTurbo()\n\u001b[0;32m      2\u001b[0m \u001b[38;5;28mprint\u001b[39m(gx\u001b[38;5;241m.\u001b[39mdistances[(\u001b[38;5;241m1\u001b[39m,\u001b[38;5;241m7\u001b[39m)])\n",
      "Cell \u001b[1;32mIn[103], line 121\u001b[0m, in \u001b[0;36mMedoTotalTurbo.__init__\u001b[1;34m(self, texto_input)\u001b[0m\n\u001b[0;32m    119\u001b[0m mapa \u001b[38;5;241m=\u001b[39m [x\u001b[38;5;241m.\u001b[39mreplace(\u001b[38;5;124m\"\u001b[39m\u001b[38;5;124m \u001b[39m\u001b[38;5;124m\"\u001b[39m, \u001b[38;5;124m\"\u001b[39m\u001b[38;5;124m\"\u001b[39m) \u001b[38;5;28;01mfor\u001b[39;00m x \u001b[38;5;129;01min\u001b[39;00m matrizAux]\n\u001b[0;32m    120\u001b[0m \u001b[38;5;28mself\u001b[39m\u001b[38;5;241m.\u001b[39mtabuleiro \u001b[38;5;241m=\u001b[39m mapa\n\u001b[1;32m--> 121\u001b[0m \u001b[38;5;28mself\u001b[39m\u001b[38;5;241m.\u001b[39mdistances \u001b[38;5;241m=\u001b[39m \u001b[38;5;28mself\u001b[39m\u001b[38;5;241m.\u001b[39mrealDistances()\n",
      "Cell \u001b[1;32mIn[103], line 134\u001b[0m, in \u001b[0;36mMedoTotalTurbo.realDistances\u001b[1;34m(self)\u001b[0m\n\u001b[0;32m    132\u001b[0m         \u001b[38;5;28;01mfor\u001b[39;00m j \u001b[38;5;129;01min\u001b[39;00m \u001b[38;5;28mrange\u001b[39m(\u001b[38;5;28mlen\u001b[39m(mapa[i])):\n\u001b[0;32m    133\u001b[0m             \u001b[38;5;28;01mif\u001b[39;00m (mapa[i][j] \u001b[38;5;241m==\u001b[39m \u001b[38;5;124m'\u001b[39m\u001b[38;5;124m.\u001b[39m\u001b[38;5;124m'\u001b[39m \u001b[38;5;129;01mor\u001b[39;00m mapa[i][j] \u001b[38;5;241m==\u001b[39m \u001b[38;5;124m'\u001b[39m\u001b[38;5;124m*\u001b[39m\u001b[38;5;124m'\u001b[39m):\n\u001b[1;32m--> 134\u001b[0m                 auxDicio[p][(j,i)] \u001b[38;5;241m=\u001b[39m distancia_entre_pontos(mapa, p, (j,i))\n\u001b[0;32m    135\u001b[0m \u001b[38;5;28;01mreturn\u001b[39;00m auxDicio\n",
      "Cell \u001b[1;32mIn[103], line 46\u001b[0m, in \u001b[0;36mdistancia_entre_pontos\u001b[1;34m(tabuleiro, p1, p2)\u001b[0m\n\u001b[0;32m     44\u001b[0m \u001b[38;5;66;03m# A distância entre dois pontos é infinita se apenas houverem obstáculos no caminho\u001b[39;00m\n\u001b[0;32m     45\u001b[0m distancias \u001b[38;5;241m=\u001b[39m [[infinity \u001b[38;5;28;01mfor\u001b[39;00m _ \u001b[38;5;129;01min\u001b[39;00m \u001b[38;5;28mrange\u001b[39m(\u001b[38;5;28mlen\u001b[39m(tabuleiro))] \u001b[38;5;28;01mfor\u001b[39;00m _ \u001b[38;5;129;01min\u001b[39;00m \u001b[38;5;28mrange\u001b[39m(\u001b[38;5;28mlen\u001b[39m(tabuleiro[\u001b[38;5;241m0\u001b[39m]))]\n\u001b[1;32m---> 46\u001b[0m distancias[p1[\u001b[38;5;241m0\u001b[39m], p1[\u001b[38;5;241m1\u001b[39m]] \u001b[38;5;241m=\u001b[39m \u001b[38;5;241m0\u001b[39m\n\u001b[0;32m     48\u001b[0m fronteira \u001b[38;5;241m=\u001b[39m []\n\u001b[0;32m     49\u001b[0m fronteira\u001b[38;5;241m.\u001b[39mappend(p1)\n",
      "\u001b[1;31mTypeError\u001b[0m: list indices must be integers or slices, not tuple"
     ]
    }
   ],
   "source": [
    "gx=MedoTotalTurbo()\n",
    "print(gx.distances[(1,7)])"
   ]
  },
  {
   "cell_type": "code",
   "execution_count": 108,
   "id": "e26618bf",
   "metadata": {},
   "outputs": [
    {
     "name": "stdout",
     "output_type": "stream",
     "text": [
      "{(3, 1)}\n",
      "\n",
      "['__class__', '__class_getitem__', '__contains__', '__delattr__', '__delitem__', '__dir__', '__doc__', '__eq__', '__format__', '__ge__', '__getattribute__', '__getitem__', '__getstate__', '__gt__', '__hash__', '__init__', '__init_subclass__', '__ior__', '__iter__', '__le__', '__len__', '__lt__', '__ne__', '__new__', '__or__', '__reduce__', '__reduce_ex__', '__repr__', '__reversed__', '__ror__', '__setattr__', '__setitem__', '__sizeof__', '__str__', '__subclasshook__', 'clear', 'copy', 'fromkeys', 'get', 'items', 'keys', 'pop', 'popitem', 'setdefault', 'update', 'values']\n"
     ]
    }
   ],
   "source": [
    "print(gx.initial.pastilhas)\n",
    "print(\"\")\n",
    "print(dir(gx.distances))"
   ]
  },
  {
   "cell_type": "code",
   "execution_count": 109,
   "id": "ba5f5fd2",
   "metadata": {},
   "outputs": [
    {
     "data": {
      "text/plain": [
       "{(3, 1): {(7, 5): 69, (3, 3): 37}, (6, 1): {}, (1, 7): {}}"
      ]
     },
     "execution_count": 109,
     "metadata": {},
     "output_type": "execute_result"
    }
   ],
   "source": [
    "a1 = (3,1)\n",
    "a2 = (6,1)\n",
    "a3 = (1,7)\n",
    "aux = {}\n",
    "aux[a1] = {}\n",
    "aux[a2] = {}\n",
    "aux[a3] = {}\n",
    "aux[a1][(7,5)] = 69\n",
    "aux[a1][(3,3)] = 37\n",
    "aux"
   ]
  },
  {
   "cell_type": "code",
   "execution_count": 124,
   "id": "1d0aa130",
   "metadata": {},
   "outputs": [
    {
     "ename": "SyntaxError",
     "evalue": "invalid syntax (1862430165.py, line 1)",
     "output_type": "error",
     "traceback": [
      "\u001b[1;36m  Cell \u001b[1;32mIn[124], line 1\u001b[1;36m\u001b[0m\n\u001b[1;33m    python -m pdb P1_AUX.py\u001b[0m\n\u001b[1;37m              ^\u001b[0m\n\u001b[1;31mSyntaxError\u001b[0m\u001b[1;31m:\u001b[0m invalid syntax\n"
     ]
    }
   ],
   "source": [
    "python -m pdb P1_AUX.py"
   ]
  },
  {
   "cell_type": "code",
   "execution_count": null,
   "id": "9ed7b0b2",
   "metadata": {},
   "outputs": [],
   "source": []
  },
  {
   "cell_type": "code",
   "execution_count": null,
   "id": "7f71bfe8",
   "metadata": {},
   "outputs": [],
   "source": []
  },
  {
   "cell_type": "code",
   "execution_count": null,
   "id": "b218e014",
   "metadata": {},
   "outputs": [],
   "source": []
  }
 ],
 "metadata": {
  "kernelspec": {
   "display_name": "Python 3 (ipykernel)",
   "language": "python",
   "name": "python3"
  },
  "language_info": {
   "codemirror_mode": {
    "name": "ipython",
    "version": 3
   },
   "file_extension": ".py",
   "mimetype": "text/x-python",
   "name": "python",
   "nbconvert_exporter": "python",
   "pygments_lexer": "ipython3",
   "version": "3.11.4"
  }
 },
 "nbformat": 4,
 "nbformat_minor": 5
}
